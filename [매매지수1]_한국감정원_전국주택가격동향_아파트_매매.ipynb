{
 "cells": [
  {
   "cell_type": "markdown",
   "metadata": {},
   "source": [
    "# 아파트 얼마나 올랐을까? 매매 지수 비교하기\n",
    "###  1. 한국감정원, 전국주택가격동향조사\n",
    "###  2. 한국감정원, 공동주택실거래가격지수\n",
    "###  3. KB주택가격동향"
   ]
  },
  {
   "cell_type": "markdown",
   "metadata": {},
   "source": [
    "# 전국주택가격동향조사 데이터 받기\n",
    "\n",
    "- 한국감정원 -> R-ONE -> 부동산통계뷰어 ->\n",
    "- https://www.r-one.co.kr/rone/resis/statistics/statisticsViewer.do\n",
    "- 전국주택가격동향조사 -> 월간동향 -> 아파트 -> 매매가격지수 -> 매매가격지수"
   ]
  },
  {
   "cell_type": "markdown",
   "metadata": {},
   "source": [
    "# Library 불러오기"
   ]
  },
  {
   "cell_type": "code",
   "execution_count": null,
   "metadata": {},
   "outputs": [],
   "source": [
    "import os, sys\n",
    "import math\n",
    "import datetime\n",
    "\n",
    "import numpy as np\n",
    "import pandas as pd\n",
    "import matplotlib as mpl\n",
    "import matplotlib.pyplot as plt"
   ]
  },
  {
   "cell_type": "markdown",
   "metadata": {},
   "source": [
    "# 경로설정"
   ]
  },
  {
   "cell_type": "code",
   "execution_count": null,
   "metadata": {},
   "outputs": [],
   "source": [
    "os.getcwd()"
   ]
  },
  {
   "cell_type": "code",
   "execution_count": null,
   "metadata": {},
   "outputs": [],
   "source": [
    "_output_dir = os.getcwd() + \"/Dataset/\"\n",
    "\n",
    "if not os.path.exists(_output_dir):\n",
    "    os.makedirs(_output_dir)\n",
    "    \n",
    "_output_dir"
   ]
  },
  {
   "cell_type": "markdown",
   "metadata": {},
   "source": [
    "# Excel file 읽기"
   ]
  },
  {
   "cell_type": "code",
   "execution_count": null,
   "metadata": {
    "scrolled": true
   },
   "outputs": [],
   "source": [
    "# Sheet1 읽기\n",
    "input_excel_file = \"Rawdata/월간_매매가격지수_아파트.xlsx\"\n",
    "KAB_APT_tradeIndex = pd.read_excel(input_excel_file, sheet_name='Sheet1')\n",
    "KAB_APT_tradeIndex"
   ]
  },
  {
   "cell_type": "code",
   "execution_count": null,
   "metadata": {},
   "outputs": [],
   "source": [
    "# 첫 5줄만 읽기\n",
    "input_excel_file = \"Rawdata/월간_매매가격지수_아파트.xlsx\"\n",
    "KAB_APT_tradeIndex_info = pd.read_excel(input_excel_file, sheet_name='Sheet1', nrows=5)\n",
    "KAB_APT_tradeIndex_info"
   ]
  },
  {
   "cell_type": "code",
   "execution_count": null,
   "metadata": {},
   "outputs": [],
   "source": [
    "# Unnamed 로 시작되는 column 제외하기\n",
    "input_excel_file = \"Rawdata/월간_매매가격지수_아파트.xlsx\"\n",
    "KAB_APT_tradeIndex_info = pd.read_excel(input_excel_file, sheet_name='Sheet1', nrows=5)\n",
    "KAB_APT_tradeIndex_info = KAB_APT_tradeIndex_info.loc[:, ~KAB_APT_tradeIndex_info.columns.str.contains('^Unnamed')]\n",
    "KAB_APT_tradeIndex_info"
   ]
  },
  {
   "cell_type": "code",
   "execution_count": null,
   "metadata": {},
   "outputs": [],
   "source": [
    "# skiprows - 10줄 건너뛰고 읽기\n",
    "input_excel_file = \"Rawdata/월간_매매가격지수_아파트.xlsx\"\n",
    "KAB_APT_tradeIndex = pd.read_excel(input_excel_file, sheet_name='Sheet1', skiprows=range(0,10))\n",
    "KAB_APT_tradeIndex"
   ]
  },
  {
   "cell_type": "markdown",
   "metadata": {},
   "source": [
    "# - (dash) 를 NaN 으로 변환"
   ]
  },
  {
   "cell_type": "code",
   "execution_count": null,
   "metadata": {},
   "outputs": [],
   "source": [
    "KAB_APT_tradeIndex = KAB_APT_tradeIndex.replace({'-': None})\n",
    "KAB_APT_tradeIndex"
   ]
  },
  {
   "cell_type": "markdown",
   "metadata": {},
   "source": [
    "# Header 공백제거"
   ]
  },
  {
   "cell_type": "code",
   "execution_count": null,
   "metadata": {},
   "outputs": [],
   "source": [
    "KAB_APT_tradeIndex.columns"
   ]
  },
  {
   "cell_type": "code",
   "execution_count": null,
   "metadata": {},
   "outputs": [],
   "source": [
    "KAB_APT_tradeIndex.columns.str.replace(\" \",\"\")"
   ]
  },
  {
   "cell_type": "code",
   "execution_count": null,
   "metadata": {},
   "outputs": [],
   "source": [
    "KAB_APT_tradeIndex.columns = KAB_APT_tradeIndex.columns.str.replace(\" \",\"\")\n",
    "KAB_APT_tradeIndex.head()"
   ]
  },
  {
   "cell_type": "markdown",
   "metadata": {},
   "source": [
    "# Row index 설정"
   ]
  },
  {
   "cell_type": "code",
   "execution_count": null,
   "metadata": {},
   "outputs": [],
   "source": [
    "KAB_APT_tradeIndex = KAB_APT_tradeIndex.set_index([\"지역\"])\n",
    "KAB_APT_tradeIndex.head()"
   ]
  },
  {
   "cell_type": "markdown",
   "metadata": {},
   "source": [
    "# 행열바꾸기 (Transpose)"
   ]
  },
  {
   "cell_type": "code",
   "execution_count": null,
   "metadata": {},
   "outputs": [],
   "source": [
    "KAB_APT_tradeIndex = KAB_APT_tradeIndex.T\n",
    "KAB_APT_tradeIndex.head()"
   ]
  },
  {
   "cell_type": "markdown",
   "metadata": {},
   "source": [
    "# 날짜 문자열 Datetime 으로 type 변환"
   ]
  },
  {
   "cell_type": "code",
   "execution_count": null,
   "metadata": {},
   "outputs": [],
   "source": [
    "KAB_APT_tradeIndex.index"
   ]
  },
  {
   "cell_type": "code",
   "execution_count": null,
   "metadata": {},
   "outputs": [],
   "source": [
    "pd.to_datetime(KAB_APT_tradeIndex.index, format=\"%Y년%m월\")"
   ]
  },
  {
   "cell_type": "code",
   "execution_count": null,
   "metadata": {},
   "outputs": [],
   "source": [
    "from pandas.tseries.offsets import MonthEnd\n",
    "\n",
    "KAB_APT_tradeIndex.index = pd.to_datetime(KAB_APT_tradeIndex.index, format=\"%Y년%m월\") + MonthEnd(1)\n",
    "KAB_APT_tradeIndex.index.name = \"날짜\"\n",
    "KAB_APT_tradeIndex.index"
   ]
  },
  {
   "cell_type": "code",
   "execution_count": null,
   "metadata": {},
   "outputs": [],
   "source": [
    "KAB_APT_tradeIndex"
   ]
  },
  {
   "cell_type": "markdown",
   "metadata": {},
   "source": [
    "# 데이터 선택"
   ]
  },
  {
   "cell_type": "code",
   "execution_count": null,
   "metadata": {},
   "outputs": [],
   "source": [
    "KAB_APT_tradeIndex[\"서울\"] #column 인식"
   ]
  },
  {
   "cell_type": "code",
   "execution_count": null,
   "metadata": {},
   "outputs": [],
   "source": [
    "KAB_APT_tradeIndex[[\"서울\", \"경기\", \"인천\"]] #column list"
   ]
  },
  {
   "cell_type": "code",
   "execution_count": null,
   "metadata": {},
   "outputs": [],
   "source": [
    "KAB_APT_tradeIndex[\"2004-11\"] #년월 datetime indexing"
   ]
  },
  {
   "cell_type": "code",
   "execution_count": null,
   "metadata": {},
   "outputs": [],
   "source": [
    "KAB_APT_tradeIndex[\"2004-11\":\"2010-8\"] #년월 datetime range"
   ]
  },
  {
   "cell_type": "code",
   "execution_count": null,
   "metadata": {},
   "outputs": [],
   "source": [
    "KAB_APT_tradeIndex[[\"서울\", \"경기\", \"인천\"]][\"2004-11\":\"2010-8\"] #column list + datetime range"
   ]
  },
  {
   "cell_type": "code",
   "execution_count": null,
   "metadata": {},
   "outputs": [],
   "source": [
    "KAB_APT_tradeIndex[\"2004-11\":\"2010-8\"][[\"서울\", \"경기\", \"인천\"]] #datetime range + column list"
   ]
  },
  {
   "cell_type": "markdown",
   "metadata": {},
   "source": [
    "# Plot"
   ]
  },
  {
   "cell_type": "code",
   "execution_count": null,
   "metadata": {},
   "outputs": [],
   "source": [
    "KAB_APT_tradeIndex.plot()"
   ]
  },
  {
   "cell_type": "code",
   "execution_count": null,
   "metadata": {},
   "outputs": [],
   "source": [
    "plt.rcParams[\"font.family\"] = \"Malgun Gothic\"\n",
    "plt.rcParams[\"figure.figsize\"] = (13,5)"
   ]
  },
  {
   "cell_type": "code",
   "execution_count": null,
   "metadata": {},
   "outputs": [],
   "source": [
    "KAB_APT_tradeIndex.plot()"
   ]
  },
  {
   "cell_type": "code",
   "execution_count": null,
   "metadata": {},
   "outputs": [],
   "source": [
    "ax =KAB_APT_tradeIndex.plot(legend=False)\n",
    "patches, labels = ax.get_legend_handles_labels()\n",
    "ax.legend(patches, labels, loc='center left', bbox_to_anchor=(1, 0.5))"
   ]
  },
  {
   "cell_type": "code",
   "execution_count": null,
   "metadata": {},
   "outputs": [],
   "source": [
    "KAB_APT_tradeIndex[\"2004-11\":\"2010-8\"][[\"서울\", \"경기\", \"인천\"]].plot()"
   ]
  },
  {
   "cell_type": "markdown",
   "metadata": {},
   "source": [
    "# 결과 DataFrame 저장"
   ]
  },
  {
   "cell_type": "code",
   "execution_count": null,
   "metadata": {},
   "outputs": [],
   "source": [
    "output_excel_file = _output_dir + \"KAB_APT_tradeIndex1.csv\"\n",
    "output_excel_file"
   ]
  },
  {
   "cell_type": "code",
   "execution_count": null,
   "metadata": {},
   "outputs": [],
   "source": [
    "KAB_APT_tradeIndex.to_csv(output_excel_file) # 한글깨짐"
   ]
  },
  {
   "cell_type": "code",
   "execution_count": null,
   "metadata": {},
   "outputs": [],
   "source": [
    "KAB_APT_tradeIndex.to_csv(output_excel_file, encoding=\"utf-8-sig\")"
   ]
  },
  {
   "cell_type": "code",
   "execution_count": null,
   "metadata": {},
   "outputs": [],
   "source": []
  },
  {
   "cell_type": "code",
   "execution_count": null,
   "metadata": {},
   "outputs": [],
   "source": []
  }
 ],
 "metadata": {
  "kernelspec": {
   "display_name": "Python 3",
   "language": "python",
   "name": "python3"
  },
  "language_info": {
   "codemirror_mode": {
    "name": "ipython",
    "version": 3
   },
   "file_extension": ".py",
   "mimetype": "text/x-python",
   "name": "python",
   "nbconvert_exporter": "python",
   "pygments_lexer": "ipython3",
   "version": "3.7.4"
  }
 },
 "nbformat": 4,
 "nbformat_minor": 2
}
