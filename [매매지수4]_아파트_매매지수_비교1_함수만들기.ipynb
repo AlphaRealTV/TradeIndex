{
 "cells": [
  {
   "cell_type": "markdown",
   "metadata": {},
   "source": [
    "* * *\n",
    "# 아파트 얼마나 올랐을까? 매매 지수 비교하기\n",
    "* * *\n",
    "###  1. 한국감정원, 전국주택가격동향조사\n",
    "###  2. 한국감정원, 공동주택실거래가격지수\n",
    "###  3. KB주택가격동향\n",
    "* * *\n",
    " <br>"
   ]
  },
  {
   "cell_type": "markdown",
   "metadata": {},
   "source": [
    "* * *\n",
    "# 매매지수 비교하기\n",
    "* * *\n",
    "## 1. 지수 Data 합치기\n",
    "## 2. 지수 Scale 조정\n",
    "## 3. 지수 변동률 구하기\n",
    "## 4. Module 화\n",
    "* * *\n",
    "<br>"
   ]
  },
  {
   "cell_type": "code",
   "execution_count": 2,
   "metadata": {},
   "outputs": [],
   "source": [
    "import os, sys\n",
    "import math\n",
    "import datetime\n",
    "import time as t\n",
    "\n",
    "import numpy as np\n",
    "import pandas as pd\n",
    "import matplotlib as mpl\n",
    "import matplotlib.pyplot as plt\n",
    "from matplotlib import style\n",
    "\n",
    "style.use('dark_background')\n",
    "plt.rcParams[\"font.family\"] = \"Malgun Gothic\"\n",
    "plt.rcParams[\"figure.figsize\"] = (12,4)"
   ]
  },
  {
   "cell_type": "markdown",
   "metadata": {},
   "source": [
    "# csv file 읽기"
   ]
  },
  {
   "cell_type": "code",
   "execution_count": 3,
   "metadata": {},
   "outputs": [],
   "source": [
    "KAB1_csv_file = \"Dataset/KAB_APT_tradeIndex1.csv\" # 한국감정원 전국주택가격동향조사\n",
    "KAB2_csv_file = \"Dataset/KAB_APT_tradeIndex2.csv\" # 한국감정원 공동주택실거래가격지수\n",
    "KB_csv_file = \"Dataset/KB_APT_tradeIndex.csv\" # KB 주택가격동향"
   ]
  },
  {
   "cell_type": "code",
   "execution_count": 4,
   "metadata": {},
   "outputs": [
    {
     "data": {
      "text/html": [
       "<div>\n",
       "<style scoped>\n",
       "    .dataframe tbody tr th:only-of-type {\n",
       "        vertical-align: middle;\n",
       "    }\n",
       "\n",
       "    .dataframe tbody tr th {\n",
       "        vertical-align: top;\n",
       "    }\n",
       "\n",
       "    .dataframe thead th {\n",
       "        text-align: right;\n",
       "    }\n",
       "</style>\n",
       "<table border=\"1\" class=\"dataframe\">\n",
       "  <thead>\n",
       "    <tr style=\"text-align: right;\">\n",
       "      <th></th>\n",
       "      <th>전국</th>\n",
       "      <th>서울</th>\n",
       "      <th>경기</th>\n",
       "      <th>인천</th>\n",
       "      <th>부산</th>\n",
       "      <th>대구</th>\n",
       "      <th>광주</th>\n",
       "      <th>대전</th>\n",
       "      <th>울산</th>\n",
       "      <th>세종</th>\n",
       "      <th>강원</th>\n",
       "      <th>충북</th>\n",
       "      <th>충남</th>\n",
       "      <th>전북</th>\n",
       "      <th>전남</th>\n",
       "      <th>경북</th>\n",
       "      <th>경남</th>\n",
       "      <th>제주</th>\n",
       "    </tr>\n",
       "    <tr>\n",
       "      <th>날짜</th>\n",
       "      <th></th>\n",
       "      <th></th>\n",
       "      <th></th>\n",
       "      <th></th>\n",
       "      <th></th>\n",
       "      <th></th>\n",
       "      <th></th>\n",
       "      <th></th>\n",
       "      <th></th>\n",
       "      <th></th>\n",
       "      <th></th>\n",
       "      <th></th>\n",
       "      <th></th>\n",
       "      <th></th>\n",
       "      <th></th>\n",
       "      <th></th>\n",
       "      <th></th>\n",
       "      <th></th>\n",
       "    </tr>\n",
       "  </thead>\n",
       "  <tbody>\n",
       "    <tr>\n",
       "      <td>2003-11-30</td>\n",
       "      <td>63.231694</td>\n",
       "      <td>61.635809</td>\n",
       "      <td>66.789014</td>\n",
       "      <td>67.055586</td>\n",
       "      <td>59.824972</td>\n",
       "      <td>61.746512</td>\n",
       "      <td>58.339638</td>\n",
       "      <td>75.443766</td>\n",
       "      <td>51.526232</td>\n",
       "      <td>NaN</td>\n",
       "      <td>63.663111</td>\n",
       "      <td>59.265861</td>\n",
       "      <td>73.299666</td>\n",
       "      <td>56.264289</td>\n",
       "      <td>62.022490</td>\n",
       "      <td>63.901950</td>\n",
       "      <td>60.633403</td>\n",
       "      <td>53.419325</td>\n",
       "    </tr>\n",
       "    <tr>\n",
       "      <td>2003-12-31</td>\n",
       "      <td>62.871369</td>\n",
       "      <td>61.169206</td>\n",
       "      <td>66.495836</td>\n",
       "      <td>66.601190</td>\n",
       "      <td>59.339568</td>\n",
       "      <td>61.131105</td>\n",
       "      <td>58.010272</td>\n",
       "      <td>74.590024</td>\n",
       "      <td>51.144203</td>\n",
       "      <td>NaN</td>\n",
       "      <td>63.926759</td>\n",
       "      <td>59.094565</td>\n",
       "      <td>73.176316</td>\n",
       "      <td>56.295067</td>\n",
       "      <td>61.947547</td>\n",
       "      <td>63.819056</td>\n",
       "      <td>60.404171</td>\n",
       "      <td>53.340797</td>\n",
       "    </tr>\n",
       "    <tr>\n",
       "      <td>2004-01-31</td>\n",
       "      <td>62.719820</td>\n",
       "      <td>60.986643</td>\n",
       "      <td>66.231807</td>\n",
       "      <td>66.440460</td>\n",
       "      <td>59.196512</td>\n",
       "      <td>60.882542</td>\n",
       "      <td>57.895018</td>\n",
       "      <td>74.868931</td>\n",
       "      <td>51.056227</td>\n",
       "      <td>NaN</td>\n",
       "      <td>64.221913</td>\n",
       "      <td>59.228980</td>\n",
       "      <td>73.303211</td>\n",
       "      <td>56.310488</td>\n",
       "      <td>61.883733</td>\n",
       "      <td>63.531849</td>\n",
       "      <td>60.238899</td>\n",
       "      <td>53.442854</td>\n",
       "    </tr>\n",
       "    <tr>\n",
       "      <td>2004-02-29</td>\n",
       "      <td>62.930914</td>\n",
       "      <td>61.350289</td>\n",
       "      <td>66.325213</td>\n",
       "      <td>66.552366</td>\n",
       "      <td>59.174420</td>\n",
       "      <td>60.986334</td>\n",
       "      <td>58.060014</td>\n",
       "      <td>75.570550</td>\n",
       "      <td>51.222331</td>\n",
       "      <td>NaN</td>\n",
       "      <td>64.854490</td>\n",
       "      <td>59.544402</td>\n",
       "      <td>74.356451</td>\n",
       "      <td>56.608826</td>\n",
       "      <td>61.776734</td>\n",
       "      <td>63.631072</td>\n",
       "      <td>60.467854</td>\n",
       "      <td>53.383531</td>\n",
       "    </tr>\n",
       "    <tr>\n",
       "      <td>2004-03-31</td>\n",
       "      <td>63.181754</td>\n",
       "      <td>61.670955</td>\n",
       "      <td>66.503886</td>\n",
       "      <td>66.631654</td>\n",
       "      <td>59.274659</td>\n",
       "      <td>61.304512</td>\n",
       "      <td>58.154816</td>\n",
       "      <td>75.994564</td>\n",
       "      <td>51.621258</td>\n",
       "      <td>NaN</td>\n",
       "      <td>65.511519</td>\n",
       "      <td>59.838497</td>\n",
       "      <td>75.182870</td>\n",
       "      <td>57.134163</td>\n",
       "      <td>61.596105</td>\n",
       "      <td>63.806908</td>\n",
       "      <td>60.790359</td>\n",
       "      <td>53.333128</td>\n",
       "    </tr>\n",
       "  </tbody>\n",
       "</table>\n",
       "</div>"
      ],
      "text/plain": [
       "                   전국         서울         경기         인천         부산         대구  \\\n",
       "날짜                                                                             \n",
       "2003-11-30  63.231694  61.635809  66.789014  67.055586  59.824972  61.746512   \n",
       "2003-12-31  62.871369  61.169206  66.495836  66.601190  59.339568  61.131105   \n",
       "2004-01-31  62.719820  60.986643  66.231807  66.440460  59.196512  60.882542   \n",
       "2004-02-29  62.930914  61.350289  66.325213  66.552366  59.174420  60.986334   \n",
       "2004-03-31  63.181754  61.670955  66.503886  66.631654  59.274659  61.304512   \n",
       "\n",
       "                   광주         대전         울산  세종         강원         충북  \\\n",
       "날짜                                                                      \n",
       "2003-11-30  58.339638  75.443766  51.526232 NaN  63.663111  59.265861   \n",
       "2003-12-31  58.010272  74.590024  51.144203 NaN  63.926759  59.094565   \n",
       "2004-01-31  57.895018  74.868931  51.056227 NaN  64.221913  59.228980   \n",
       "2004-02-29  58.060014  75.570550  51.222331 NaN  64.854490  59.544402   \n",
       "2004-03-31  58.154816  75.994564  51.621258 NaN  65.511519  59.838497   \n",
       "\n",
       "                   충남         전북         전남         경북         경남         제주  \n",
       "날짜                                                                            \n",
       "2003-11-30  73.299666  56.264289  62.022490  63.901950  60.633403  53.419325  \n",
       "2003-12-31  73.176316  56.295067  61.947547  63.819056  60.404171  53.340797  \n",
       "2004-01-31  73.303211  56.310488  61.883733  63.531849  60.238899  53.442854  \n",
       "2004-02-29  74.356451  56.608826  61.776734  63.631072  60.467854  53.383531  \n",
       "2004-03-31  75.182870  57.134163  61.596105  63.806908  60.790359  53.333128  "
      ]
     },
     "execution_count": 4,
     "metadata": {},
     "output_type": "execute_result"
    }
   ],
   "source": [
    "KAB1 = pd.read_csv(KAB1_csv_file, index_col=\"날짜\", parse_dates=True)\n",
    "KAB1.head()"
   ]
  },
  {
   "cell_type": "code",
   "execution_count": 5,
   "metadata": {},
   "outputs": [
    {
     "data": {
      "text/html": [
       "<div>\n",
       "<style scoped>\n",
       "    .dataframe tbody tr th:only-of-type {\n",
       "        vertical-align: middle;\n",
       "    }\n",
       "\n",
       "    .dataframe tbody tr th {\n",
       "        vertical-align: top;\n",
       "    }\n",
       "\n",
       "    .dataframe thead th {\n",
       "        text-align: right;\n",
       "    }\n",
       "</style>\n",
       "<table border=\"1\" class=\"dataframe\">\n",
       "  <thead>\n",
       "    <tr style=\"text-align: right;\">\n",
       "      <th></th>\n",
       "      <th>전국</th>\n",
       "      <th>서울</th>\n",
       "      <th>부산</th>\n",
       "      <th>대구</th>\n",
       "      <th>인천</th>\n",
       "      <th>광주</th>\n",
       "      <th>대전</th>\n",
       "      <th>울산</th>\n",
       "      <th>세종</th>\n",
       "      <th>경기</th>\n",
       "      <th>강원</th>\n",
       "      <th>충북</th>\n",
       "      <th>충남</th>\n",
       "      <th>전북</th>\n",
       "      <th>전남</th>\n",
       "      <th>경북</th>\n",
       "      <th>경남</th>\n",
       "      <th>제주</th>\n",
       "    </tr>\n",
       "    <tr>\n",
       "      <th>날짜</th>\n",
       "      <th></th>\n",
       "      <th></th>\n",
       "      <th></th>\n",
       "      <th></th>\n",
       "      <th></th>\n",
       "      <th></th>\n",
       "      <th></th>\n",
       "      <th></th>\n",
       "      <th></th>\n",
       "      <th></th>\n",
       "      <th></th>\n",
       "      <th></th>\n",
       "      <th></th>\n",
       "      <th></th>\n",
       "      <th></th>\n",
       "      <th></th>\n",
       "      <th></th>\n",
       "      <th></th>\n",
       "    </tr>\n",
       "  </thead>\n",
       "  <tbody>\n",
       "    <tr>\n",
       "      <td>2006-01-31</td>\n",
       "      <td>62.0</td>\n",
       "      <td>60.5</td>\n",
       "      <td>49.8</td>\n",
       "      <td>62.6</td>\n",
       "      <td>62.3</td>\n",
       "      <td>54.2</td>\n",
       "      <td>75.7</td>\n",
       "      <td>48.9</td>\n",
       "      <td>69.6</td>\n",
       "      <td>69.2</td>\n",
       "      <td>61.3</td>\n",
       "      <td>65.3</td>\n",
       "      <td>75.6</td>\n",
       "      <td>57.2</td>\n",
       "      <td>51.0</td>\n",
       "      <td>66.1</td>\n",
       "      <td>63.0</td>\n",
       "      <td>38.7</td>\n",
       "    </tr>\n",
       "    <tr>\n",
       "      <td>2006-02-28</td>\n",
       "      <td>62.7</td>\n",
       "      <td>61.6</td>\n",
       "      <td>49.5</td>\n",
       "      <td>62.8</td>\n",
       "      <td>62.7</td>\n",
       "      <td>53.9</td>\n",
       "      <td>75.2</td>\n",
       "      <td>49.0</td>\n",
       "      <td>69.6</td>\n",
       "      <td>70.5</td>\n",
       "      <td>61.9</td>\n",
       "      <td>66.4</td>\n",
       "      <td>76.3</td>\n",
       "      <td>57.5</td>\n",
       "      <td>50.6</td>\n",
       "      <td>66.1</td>\n",
       "      <td>62.9</td>\n",
       "      <td>37.6</td>\n",
       "    </tr>\n",
       "    <tr>\n",
       "      <td>2006-03-31</td>\n",
       "      <td>63.3</td>\n",
       "      <td>63.0</td>\n",
       "      <td>49.1</td>\n",
       "      <td>62.6</td>\n",
       "      <td>63.1</td>\n",
       "      <td>53.8</td>\n",
       "      <td>74.5</td>\n",
       "      <td>49.8</td>\n",
       "      <td>72.7</td>\n",
       "      <td>71.4</td>\n",
       "      <td>60.1</td>\n",
       "      <td>66.9</td>\n",
       "      <td>77.2</td>\n",
       "      <td>58.2</td>\n",
       "      <td>51.1</td>\n",
       "      <td>66.2</td>\n",
       "      <td>63.2</td>\n",
       "      <td>35.8</td>\n",
       "    </tr>\n",
       "    <tr>\n",
       "      <td>2006-04-30</td>\n",
       "      <td>63.8</td>\n",
       "      <td>63.9</td>\n",
       "      <td>48.7</td>\n",
       "      <td>62.5</td>\n",
       "      <td>63.6</td>\n",
       "      <td>53.7</td>\n",
       "      <td>73.9</td>\n",
       "      <td>50.4</td>\n",
       "      <td>69.5</td>\n",
       "      <td>72.2</td>\n",
       "      <td>60.9</td>\n",
       "      <td>67.7</td>\n",
       "      <td>77.1</td>\n",
       "      <td>58.5</td>\n",
       "      <td>51.4</td>\n",
       "      <td>66.0</td>\n",
       "      <td>62.8</td>\n",
       "      <td>36.0</td>\n",
       "    </tr>\n",
       "    <tr>\n",
       "      <td>2006-05-31</td>\n",
       "      <td>64.1</td>\n",
       "      <td>64.0</td>\n",
       "      <td>48.3</td>\n",
       "      <td>62.1</td>\n",
       "      <td>64.1</td>\n",
       "      <td>53.0</td>\n",
       "      <td>73.4</td>\n",
       "      <td>51.7</td>\n",
       "      <td>72.1</td>\n",
       "      <td>73.2</td>\n",
       "      <td>62.0</td>\n",
       "      <td>67.4</td>\n",
       "      <td>75.2</td>\n",
       "      <td>58.6</td>\n",
       "      <td>52.6</td>\n",
       "      <td>66.0</td>\n",
       "      <td>62.7</td>\n",
       "      <td>36.5</td>\n",
       "    </tr>\n",
       "  </tbody>\n",
       "</table>\n",
       "</div>"
      ],
      "text/plain": [
       "              전국    서울    부산    대구    인천    광주    대전    울산    세종    경기    강원  \\\n",
       "날짜                                                                             \n",
       "2006-01-31  62.0  60.5  49.8  62.6  62.3  54.2  75.7  48.9  69.6  69.2  61.3   \n",
       "2006-02-28  62.7  61.6  49.5  62.8  62.7  53.9  75.2  49.0  69.6  70.5  61.9   \n",
       "2006-03-31  63.3  63.0  49.1  62.6  63.1  53.8  74.5  49.8  72.7  71.4  60.1   \n",
       "2006-04-30  63.8  63.9  48.7  62.5  63.6  53.7  73.9  50.4  69.5  72.2  60.9   \n",
       "2006-05-31  64.1  64.0  48.3  62.1  64.1  53.0  73.4  51.7  72.1  73.2  62.0   \n",
       "\n",
       "              충북    충남    전북    전남    경북    경남    제주  \n",
       "날짜                                                    \n",
       "2006-01-31  65.3  75.6  57.2  51.0  66.1  63.0  38.7  \n",
       "2006-02-28  66.4  76.3  57.5  50.6  66.1  62.9  37.6  \n",
       "2006-03-31  66.9  77.2  58.2  51.1  66.2  63.2  35.8  \n",
       "2006-04-30  67.7  77.1  58.5  51.4  66.0  62.8  36.0  \n",
       "2006-05-31  67.4  75.2  58.6  52.6  66.0  62.7  36.5  "
      ]
     },
     "execution_count": 5,
     "metadata": {},
     "output_type": "execute_result"
    }
   ],
   "source": [
    "KAB2 = pd.read_csv(KAB2_csv_file, index_col=\"날짜\", parse_dates=True)\n",
    "KAB2.head()"
   ]
  },
  {
   "cell_type": "code",
   "execution_count": 6,
   "metadata": {},
   "outputs": [
    {
     "data": {
      "text/html": [
       "<div>\n",
       "<style scoped>\n",
       "    .dataframe tbody tr th:only-of-type {\n",
       "        vertical-align: middle;\n",
       "    }\n",
       "\n",
       "    .dataframe tbody tr th {\n",
       "        vertical-align: top;\n",
       "    }\n",
       "\n",
       "    .dataframe thead th {\n",
       "        text-align: right;\n",
       "    }\n",
       "</style>\n",
       "<table border=\"1\" class=\"dataframe\">\n",
       "  <thead>\n",
       "    <tr style=\"text-align: right;\">\n",
       "      <th></th>\n",
       "      <th>전국</th>\n",
       "      <th>서울</th>\n",
       "      <th>부산</th>\n",
       "      <th>대구</th>\n",
       "      <th>인천</th>\n",
       "      <th>광주</th>\n",
       "      <th>대전</th>\n",
       "      <th>울산</th>\n",
       "      <th>수도권</th>\n",
       "      <th>세종</th>\n",
       "      <th>경기</th>\n",
       "      <th>강원</th>\n",
       "      <th>충북</th>\n",
       "      <th>충남</th>\n",
       "      <th>전북</th>\n",
       "      <th>전남</th>\n",
       "      <th>경북</th>\n",
       "      <th>경남</th>\n",
       "      <th>제주</th>\n",
       "    </tr>\n",
       "    <tr>\n",
       "      <th>날짜</th>\n",
       "      <th></th>\n",
       "      <th></th>\n",
       "      <th></th>\n",
       "      <th></th>\n",
       "      <th></th>\n",
       "      <th></th>\n",
       "      <th></th>\n",
       "      <th></th>\n",
       "      <th></th>\n",
       "      <th></th>\n",
       "      <th></th>\n",
       "      <th></th>\n",
       "      <th></th>\n",
       "      <th></th>\n",
       "      <th></th>\n",
       "      <th></th>\n",
       "      <th></th>\n",
       "      <th></th>\n",
       "      <th></th>\n",
       "    </tr>\n",
       "  </thead>\n",
       "  <tbody>\n",
       "    <tr>\n",
       "      <td>1986-01-31</td>\n",
       "      <td>20.973143</td>\n",
       "      <td>17.152933</td>\n",
       "      <td>20.092425</td>\n",
       "      <td>24.91809</td>\n",
       "      <td>26.145212</td>\n",
       "      <td>30.593922</td>\n",
       "      <td>32.732911</td>\n",
       "      <td>25.969996</td>\n",
       "      <td>NaN</td>\n",
       "      <td>NaN</td>\n",
       "      <td>NaN</td>\n",
       "      <td>NaN</td>\n",
       "      <td>NaN</td>\n",
       "      <td>NaN</td>\n",
       "      <td>NaN</td>\n",
       "      <td>NaN</td>\n",
       "      <td>NaN</td>\n",
       "      <td>NaN</td>\n",
       "      <td>NaN</td>\n",
       "    </tr>\n",
       "    <tr>\n",
       "      <td>1986-02-28</td>\n",
       "      <td>20.973143</td>\n",
       "      <td>17.182661</td>\n",
       "      <td>20.179217</td>\n",
       "      <td>24.91809</td>\n",
       "      <td>26.145212</td>\n",
       "      <td>30.767422</td>\n",
       "      <td>32.732911</td>\n",
       "      <td>25.922519</td>\n",
       "      <td>NaN</td>\n",
       "      <td>NaN</td>\n",
       "      <td>NaN</td>\n",
       "      <td>NaN</td>\n",
       "      <td>NaN</td>\n",
       "      <td>NaN</td>\n",
       "      <td>NaN</td>\n",
       "      <td>NaN</td>\n",
       "      <td>NaN</td>\n",
       "      <td>NaN</td>\n",
       "      <td>NaN</td>\n",
       "    </tr>\n",
       "    <tr>\n",
       "      <td>1986-03-31</td>\n",
       "      <td>20.934518</td>\n",
       "      <td>17.152933</td>\n",
       "      <td>20.092425</td>\n",
       "      <td>25.05254</td>\n",
       "      <td>25.937049</td>\n",
       "      <td>30.246921</td>\n",
       "      <td>32.619386</td>\n",
       "      <td>25.637656</td>\n",
       "      <td>NaN</td>\n",
       "      <td>NaN</td>\n",
       "      <td>NaN</td>\n",
       "      <td>NaN</td>\n",
       "      <td>NaN</td>\n",
       "      <td>NaN</td>\n",
       "      <td>NaN</td>\n",
       "      <td>NaN</td>\n",
       "      <td>NaN</td>\n",
       "      <td>NaN</td>\n",
       "      <td>NaN</td>\n",
       "    </tr>\n",
       "    <tr>\n",
       "      <td>1986-04-30</td>\n",
       "      <td>20.818644</td>\n",
       "      <td>17.034022</td>\n",
       "      <td>20.005633</td>\n",
       "      <td>25.05254</td>\n",
       "      <td>25.770519</td>\n",
       "      <td>30.420421</td>\n",
       "      <td>32.619386</td>\n",
       "      <td>25.637656</td>\n",
       "      <td>NaN</td>\n",
       "      <td>NaN</td>\n",
       "      <td>NaN</td>\n",
       "      <td>NaN</td>\n",
       "      <td>NaN</td>\n",
       "      <td>NaN</td>\n",
       "      <td>NaN</td>\n",
       "      <td>NaN</td>\n",
       "      <td>NaN</td>\n",
       "      <td>NaN</td>\n",
       "      <td>NaN</td>\n",
       "    </tr>\n",
       "    <tr>\n",
       "      <td>1986-05-31</td>\n",
       "      <td>20.664146</td>\n",
       "      <td>16.944839</td>\n",
       "      <td>19.745256</td>\n",
       "      <td>25.05254</td>\n",
       "      <td>25.520724</td>\n",
       "      <td>30.246921</td>\n",
       "      <td>32.619386</td>\n",
       "      <td>25.969996</td>\n",
       "      <td>NaN</td>\n",
       "      <td>NaN</td>\n",
       "      <td>NaN</td>\n",
       "      <td>NaN</td>\n",
       "      <td>NaN</td>\n",
       "      <td>NaN</td>\n",
       "      <td>NaN</td>\n",
       "      <td>NaN</td>\n",
       "      <td>NaN</td>\n",
       "      <td>NaN</td>\n",
       "      <td>NaN</td>\n",
       "    </tr>\n",
       "  </tbody>\n",
       "</table>\n",
       "</div>"
      ],
      "text/plain": [
       "                   전국         서울         부산        대구         인천         광주  \\\n",
       "날짜                                                                            \n",
       "1986-01-31  20.973143  17.152933  20.092425  24.91809  26.145212  30.593922   \n",
       "1986-02-28  20.973143  17.182661  20.179217  24.91809  26.145212  30.767422   \n",
       "1986-03-31  20.934518  17.152933  20.092425  25.05254  25.937049  30.246921   \n",
       "1986-04-30  20.818644  17.034022  20.005633  25.05254  25.770519  30.420421   \n",
       "1986-05-31  20.664146  16.944839  19.745256  25.05254  25.520724  30.246921   \n",
       "\n",
       "                   대전         울산  수도권  세종  경기  강원  충북  충남  전북  전남  경북  경남  제주  \n",
       "날짜                                                                             \n",
       "1986-01-31  32.732911  25.969996  NaN NaN NaN NaN NaN NaN NaN NaN NaN NaN NaN  \n",
       "1986-02-28  32.732911  25.922519  NaN NaN NaN NaN NaN NaN NaN NaN NaN NaN NaN  \n",
       "1986-03-31  32.619386  25.637656  NaN NaN NaN NaN NaN NaN NaN NaN NaN NaN NaN  \n",
       "1986-04-30  32.619386  25.637656  NaN NaN NaN NaN NaN NaN NaN NaN NaN NaN NaN  \n",
       "1986-05-31  32.619386  25.969996  NaN NaN NaN NaN NaN NaN NaN NaN NaN NaN NaN  "
      ]
     },
     "execution_count": 6,
     "metadata": {},
     "output_type": "execute_result"
    }
   ],
   "source": [
    "KB = pd.read_csv(KB_csv_file, index_col=\"날짜\", parse_dates=True)\n",
    "KB.head()"
   ]
  },
  {
   "cell_type": "markdown",
   "metadata": {},
   "source": [
    "# 지역명 통일"
   ]
  },
  {
   "cell_type": "code",
   "execution_count": 7,
   "metadata": {},
   "outputs": [
    {
     "data": {
      "text/plain": [
       "Index(['강원', '경기', '경남', '경북', '광주', '대구', '대전', '부산', '서울', '세종', '울산', '인천',\n",
       "       '전국', '전남', '전북', '제주', '충남', '충북'],\n",
       "      dtype='object')"
      ]
     },
     "execution_count": 7,
     "metadata": {},
     "output_type": "execute_result"
    }
   ],
   "source": [
    "KAB1.columns.sort_values()"
   ]
  },
  {
   "cell_type": "code",
   "execution_count": 8,
   "metadata": {},
   "outputs": [
    {
     "data": {
      "text/plain": [
       "Index(['강원', '경기', '경남', '경북', '광주', '대구', '대전', '부산', '서울', '세종', '울산', '인천',\n",
       "       '전국', '전남', '전북', '제주', '충남', '충북'],\n",
       "      dtype='object')"
      ]
     },
     "execution_count": 8,
     "metadata": {},
     "output_type": "execute_result"
    }
   ],
   "source": [
    "KAB2.columns.sort_values()"
   ]
  },
  {
   "cell_type": "code",
   "execution_count": 9,
   "metadata": {},
   "outputs": [
    {
     "data": {
      "text/plain": [
       "Index(['강원', '경기', '경남', '경북', '광주', '대구', '대전', '부산', '서울', '세종', '수도권', '울산',\n",
       "       '인천', '전국', '전남', '전북', '제주', '충남', '충북'],\n",
       "      dtype='object')"
      ]
     },
     "execution_count": 9,
     "metadata": {},
     "output_type": "execute_result"
    }
   ],
   "source": [
    "KB.columns.sort_values() # 수도권"
   ]
  },
  {
   "cell_type": "markdown",
   "metadata": {},
   "source": [
    "# Dataframe 합치기"
   ]
  },
  {
   "cell_type": "code",
   "execution_count": 10,
   "metadata": {},
   "outputs": [
    {
     "data": {
      "text/html": [
       "<div>\n",
       "<style scoped>\n",
       "    .dataframe tbody tr th:only-of-type {\n",
       "        vertical-align: middle;\n",
       "    }\n",
       "\n",
       "    .dataframe tbody tr th {\n",
       "        vertical-align: top;\n",
       "    }\n",
       "\n",
       "    .dataframe thead th {\n",
       "        text-align: right;\n",
       "    }\n",
       "</style>\n",
       "<table border=\"1\" class=\"dataframe\">\n",
       "  <thead>\n",
       "    <tr style=\"text-align: right;\">\n",
       "      <th></th>\n",
       "      <th>감정원 전국주택가격동향</th>\n",
       "      <th>감정원 공동주택실거래</th>\n",
       "      <th>KB 주택가격동향</th>\n",
       "    </tr>\n",
       "    <tr>\n",
       "      <th>날짜</th>\n",
       "      <th></th>\n",
       "      <th></th>\n",
       "      <th></th>\n",
       "    </tr>\n",
       "  </thead>\n",
       "  <tbody>\n",
       "    <tr>\n",
       "      <td>1986-01-31</td>\n",
       "      <td>NaN</td>\n",
       "      <td>NaN</td>\n",
       "      <td>20.973143</td>\n",
       "    </tr>\n",
       "    <tr>\n",
       "      <td>1986-02-28</td>\n",
       "      <td>NaN</td>\n",
       "      <td>NaN</td>\n",
       "      <td>20.973143</td>\n",
       "    </tr>\n",
       "    <tr>\n",
       "      <td>1986-03-31</td>\n",
       "      <td>NaN</td>\n",
       "      <td>NaN</td>\n",
       "      <td>20.934518</td>\n",
       "    </tr>\n",
       "    <tr>\n",
       "      <td>1986-04-30</td>\n",
       "      <td>NaN</td>\n",
       "      <td>NaN</td>\n",
       "      <td>20.818644</td>\n",
       "    </tr>\n",
       "    <tr>\n",
       "      <td>1986-05-31</td>\n",
       "      <td>NaN</td>\n",
       "      <td>NaN</td>\n",
       "      <td>20.664146</td>\n",
       "    </tr>\n",
       "    <tr>\n",
       "      <td>...</td>\n",
       "      <td>...</td>\n",
       "      <td>...</td>\n",
       "      <td>...</td>\n",
       "    </tr>\n",
       "    <tr>\n",
       "      <td>2020-06-30</td>\n",
       "      <td>101.479542</td>\n",
       "      <td>110.4</td>\n",
       "      <td>102.149091</td>\n",
       "    </tr>\n",
       "    <tr>\n",
       "      <td>2020-07-31</td>\n",
       "      <td>102.379117</td>\n",
       "      <td>113.2</td>\n",
       "      <td>103.284235</td>\n",
       "    </tr>\n",
       "    <tr>\n",
       "      <td>2020-08-31</td>\n",
       "      <td>103.040213</td>\n",
       "      <td>NaN</td>\n",
       "      <td>104.246387</td>\n",
       "    </tr>\n",
       "    <tr>\n",
       "      <td>2020-09-30</td>\n",
       "      <td>103.626317</td>\n",
       "      <td>NaN</td>\n",
       "      <td>105.298447</td>\n",
       "    </tr>\n",
       "    <tr>\n",
       "      <td>2020-10-31</td>\n",
       "      <td>104.036841</td>\n",
       "      <td>NaN</td>\n",
       "      <td>105.904723</td>\n",
       "    </tr>\n",
       "  </tbody>\n",
       "</table>\n",
       "<p>418 rows × 3 columns</p>\n",
       "</div>"
      ],
      "text/plain": [
       "            감정원 전국주택가격동향  감정원 공동주택실거래   KB 주택가격동향\n",
       "날짜                                               \n",
       "1986-01-31           NaN          NaN   20.973143\n",
       "1986-02-28           NaN          NaN   20.973143\n",
       "1986-03-31           NaN          NaN   20.934518\n",
       "1986-04-30           NaN          NaN   20.818644\n",
       "1986-05-31           NaN          NaN   20.664146\n",
       "...                  ...          ...         ...\n",
       "2020-06-30    101.479542        110.4  102.149091\n",
       "2020-07-31    102.379117        113.2  103.284235\n",
       "2020-08-31    103.040213          NaN  104.246387\n",
       "2020-09-30    103.626317          NaN  105.298447\n",
       "2020-10-31    104.036841          NaN  105.904723\n",
       "\n",
       "[418 rows x 3 columns]"
      ]
     },
     "execution_count": 10,
     "metadata": {},
     "output_type": "execute_result"
    }
   ],
   "source": [
    "concat_df = pd.concat([KAB1[\"전국\"], KAB2[\"전국\"], KB[\"전국\"]], axis=1)\n",
    "concat_df.columns = [\"감정원 전국주택가격동향\", \"감정원 공동주택실거래\", \"KB 주택가격동향\"]\n",
    "concat_df"
   ]
  },
  {
   "cell_type": "code",
   "execution_count": 11,
   "metadata": {},
   "outputs": [
    {
     "data": {
      "text/html": [
       "<div>\n",
       "<style scoped>\n",
       "    .dataframe tbody tr th:only-of-type {\n",
       "        vertical-align: middle;\n",
       "    }\n",
       "\n",
       "    .dataframe tbody tr th {\n",
       "        vertical-align: top;\n",
       "    }\n",
       "\n",
       "    .dataframe thead th {\n",
       "        text-align: right;\n",
       "    }\n",
       "</style>\n",
       "<table border=\"1\" class=\"dataframe\">\n",
       "  <thead>\n",
       "    <tr style=\"text-align: right;\">\n",
       "      <th></th>\n",
       "      <th>감정원 전국주택가격동향</th>\n",
       "      <th>감정원 공동주택실거래</th>\n",
       "      <th>KB 주택가격동향</th>\n",
       "    </tr>\n",
       "    <tr>\n",
       "      <th>날짜</th>\n",
       "      <th></th>\n",
       "      <th></th>\n",
       "      <th></th>\n",
       "    </tr>\n",
       "  </thead>\n",
       "  <tbody>\n",
       "    <tr>\n",
       "      <td>2006-01-31</td>\n",
       "      <td>66.385592</td>\n",
       "      <td>62.0</td>\n",
       "      <td>64.871651</td>\n",
       "    </tr>\n",
       "    <tr>\n",
       "      <td>2006-02-28</td>\n",
       "      <td>66.769883</td>\n",
       "      <td>62.7</td>\n",
       "      <td>65.275509</td>\n",
       "    </tr>\n",
       "    <tr>\n",
       "      <td>2006-03-31</td>\n",
       "      <td>67.317416</td>\n",
       "      <td>63.3</td>\n",
       "      <td>65.807996</td>\n",
       "    </tr>\n",
       "    <tr>\n",
       "      <td>2006-04-30</td>\n",
       "      <td>68.001525</td>\n",
       "      <td>63.8</td>\n",
       "      <td>66.507946</td>\n",
       "    </tr>\n",
       "    <tr>\n",
       "      <td>2006-05-31</td>\n",
       "      <td>68.807576</td>\n",
       "      <td>64.1</td>\n",
       "      <td>67.334557</td>\n",
       "    </tr>\n",
       "    <tr>\n",
       "      <td>...</td>\n",
       "      <td>...</td>\n",
       "      <td>...</td>\n",
       "      <td>...</td>\n",
       "    </tr>\n",
       "    <tr>\n",
       "      <td>2020-03-31</td>\n",
       "      <td>100.354745</td>\n",
       "      <td>107.0</td>\n",
       "      <td>101.295022</td>\n",
       "    </tr>\n",
       "    <tr>\n",
       "      <td>2020-04-30</td>\n",
       "      <td>100.737698</td>\n",
       "      <td>107.0</td>\n",
       "      <td>101.547594</td>\n",
       "    </tr>\n",
       "    <tr>\n",
       "      <td>2020-05-31</td>\n",
       "      <td>100.899250</td>\n",
       "      <td>108.0</td>\n",
       "      <td>101.658462</td>\n",
       "    </tr>\n",
       "    <tr>\n",
       "      <td>2020-06-30</td>\n",
       "      <td>101.479542</td>\n",
       "      <td>110.4</td>\n",
       "      <td>102.149091</td>\n",
       "    </tr>\n",
       "    <tr>\n",
       "      <td>2020-07-31</td>\n",
       "      <td>102.379117</td>\n",
       "      <td>113.2</td>\n",
       "      <td>103.284235</td>\n",
       "    </tr>\n",
       "  </tbody>\n",
       "</table>\n",
       "<p>175 rows × 3 columns</p>\n",
       "</div>"
      ],
      "text/plain": [
       "            감정원 전국주택가격동향  감정원 공동주택실거래   KB 주택가격동향\n",
       "날짜                                               \n",
       "2006-01-31     66.385592         62.0   64.871651\n",
       "2006-02-28     66.769883         62.7   65.275509\n",
       "2006-03-31     67.317416         63.3   65.807996\n",
       "2006-04-30     68.001525         63.8   66.507946\n",
       "2006-05-31     68.807576         64.1   67.334557\n",
       "...                  ...          ...         ...\n",
       "2020-03-31    100.354745        107.0  101.295022\n",
       "2020-04-30    100.737698        107.0  101.547594\n",
       "2020-05-31    100.899250        108.0  101.658462\n",
       "2020-06-30    101.479542        110.4  102.149091\n",
       "2020-07-31    102.379117        113.2  103.284235\n",
       "\n",
       "[175 rows x 3 columns]"
      ]
     },
     "execution_count": 11,
     "metadata": {},
     "output_type": "execute_result"
    }
   ],
   "source": [
    "concat_df = concat_df.dropna()\n",
    "concat_df"
   ]
  },
  {
   "cell_type": "code",
   "execution_count": 12,
   "metadata": {},
   "outputs": [
    {
     "data": {
      "text/plain": [
       "<matplotlib.axes._subplots.AxesSubplot at 0x1ef392f9788>"
      ]
     },
     "execution_count": 12,
     "metadata": {},
     "output_type": "execute_result"
    },
    {
     "data": {
      "image/png": "[encoded data removed]",
      "text/plain": [
       "<Figure size 864x288 with 1 Axes>"
      ]
     },
     "metadata": {},
     "output_type": "display_data"
    }
   ],
   "source": [
    "concat_df.plot(title=\"전국\") #KAB 2017.11 = 100, KB 2019.01 = 100"
   ]
  },
  {
   "cell_type": "markdown",
   "metadata": {},
   "source": [
    "# 지수 Scale 조정 (2006년01월 = 100)"
   ]
  },
  {
   "cell_type": "code",
   "execution_count": 13,
   "metadata": {},
   "outputs": [
    {
     "data": {
      "text/plain": [
       "날짜\n",
       "2006-01-31    100.000000\n",
       "2006-02-28    100.578878\n",
       "2006-03-31    101.403655\n",
       "2006-04-30    102.434162\n",
       "2006-05-31    103.648358\n",
       "                 ...    \n",
       "2020-03-31    151.169465\n",
       "2020-04-30    151.746327\n",
       "2020-05-31    151.989681\n",
       "2020-06-30    152.863804\n",
       "2020-07-31    154.218881\n",
       "Name: 감정원 전국주택가격동향, Length: 175, dtype: float64"
      ]
     },
     "execution_count": 13,
     "metadata": {},
     "output_type": "execute_result"
    }
   ],
   "source": [
    "(concat_df[\"감정원 전국주택가격동향\"] / concat_df[\"감정원 전국주택가격동향\"][0]) * 100"
   ]
  },
  {
   "cell_type": "code",
   "execution_count": 14,
   "metadata": {},
   "outputs": [
    {
     "data": {
      "text/html": [
       "<div>\n",
       "<style scoped>\n",
       "    .dataframe tbody tr th:only-of-type {\n",
       "        vertical-align: middle;\n",
       "    }\n",
       "\n",
       "    .dataframe tbody tr th {\n",
       "        vertical-align: top;\n",
       "    }\n",
       "\n",
       "    .dataframe thead th {\n",
       "        text-align: right;\n",
       "    }\n",
       "</style>\n",
       "<table border=\"1\" class=\"dataframe\">\n",
       "  <thead>\n",
       "    <tr style=\"text-align: right;\">\n",
       "      <th></th>\n",
       "      <th>감정원 전국주택가격동향</th>\n",
       "      <th>감정원 공동주택실거래</th>\n",
       "      <th>KB 주택가격동향</th>\n",
       "    </tr>\n",
       "    <tr>\n",
       "      <th>날짜</th>\n",
       "      <th></th>\n",
       "      <th></th>\n",
       "      <th></th>\n",
       "    </tr>\n",
       "  </thead>\n",
       "  <tbody>\n",
       "    <tr>\n",
       "      <td>2006-01-31</td>\n",
       "      <td>100.000000</td>\n",
       "      <td>100.000000</td>\n",
       "      <td>100.000000</td>\n",
       "    </tr>\n",
       "    <tr>\n",
       "      <td>2006-02-28</td>\n",
       "      <td>100.578878</td>\n",
       "      <td>101.129032</td>\n",
       "      <td>100.622550</td>\n",
       "    </tr>\n",
       "    <tr>\n",
       "      <td>2006-03-31</td>\n",
       "      <td>101.403655</td>\n",
       "      <td>102.096774</td>\n",
       "      <td>101.443381</td>\n",
       "    </tr>\n",
       "    <tr>\n",
       "      <td>2006-04-30</td>\n",
       "      <td>102.434162</td>\n",
       "      <td>102.903226</td>\n",
       "      <td>102.522357</td>\n",
       "    </tr>\n",
       "    <tr>\n",
       "      <td>2006-05-31</td>\n",
       "      <td>103.648358</td>\n",
       "      <td>103.387097</td>\n",
       "      <td>103.796582</td>\n",
       "    </tr>\n",
       "    <tr>\n",
       "      <td>...</td>\n",
       "      <td>...</td>\n",
       "      <td>...</td>\n",
       "      <td>...</td>\n",
       "    </tr>\n",
       "    <tr>\n",
       "      <td>2020-03-31</td>\n",
       "      <td>151.169465</td>\n",
       "      <td>172.580645</td>\n",
       "      <td>156.146822</td>\n",
       "    </tr>\n",
       "    <tr>\n",
       "      <td>2020-04-30</td>\n",
       "      <td>151.746327</td>\n",
       "      <td>172.580645</td>\n",
       "      <td>156.536164</td>\n",
       "    </tr>\n",
       "    <tr>\n",
       "      <td>2020-05-31</td>\n",
       "      <td>151.989681</td>\n",
       "      <td>174.193548</td>\n",
       "      <td>156.707066</td>\n",
       "    </tr>\n",
       "    <tr>\n",
       "      <td>2020-06-30</td>\n",
       "      <td>152.863804</td>\n",
       "      <td>178.064516</td>\n",
       "      <td>157.463374</td>\n",
       "    </tr>\n",
       "    <tr>\n",
       "      <td>2020-07-31</td>\n",
       "      <td>154.218881</td>\n",
       "      <td>182.580645</td>\n",
       "      <td>159.213204</td>\n",
       "    </tr>\n",
       "  </tbody>\n",
       "</table>\n",
       "<p>175 rows × 3 columns</p>\n",
       "</div>"
      ],
      "text/plain": [
       "            감정원 전국주택가격동향  감정원 공동주택실거래   KB 주택가격동향\n",
       "날짜                                               \n",
       "2006-01-31    100.000000   100.000000  100.000000\n",
       "2006-02-28    100.578878   101.129032  100.622550\n",
       "2006-03-31    101.403655   102.096774  101.443381\n",
       "2006-04-30    102.434162   102.903226  102.522357\n",
       "2006-05-31    103.648358   103.387097  103.796582\n",
       "...                  ...          ...         ...\n",
       "2020-03-31    151.169465   172.580645  156.146822\n",
       "2020-04-30    151.746327   172.580645  156.536164\n",
       "2020-05-31    151.989681   174.193548  156.707066\n",
       "2020-06-30    152.863804   178.064516  157.463374\n",
       "2020-07-31    154.218881   182.580645  159.213204\n",
       "\n",
       "[175 rows x 3 columns]"
      ]
     },
     "execution_count": 14,
     "metadata": {},
     "output_type": "execute_result"
    }
   ],
   "source": [
    "concat_df = concat_df.apply(lambda x:(x/x[0])*100)\n",
    "concat_df"
   ]
  },
  {
   "cell_type": "code",
   "execution_count": 15,
   "metadata": {},
   "outputs": [
    {
     "data": {
      "text/plain": [
       "<matplotlib.axes._subplots.AxesSubplot at 0x1ef3b4ae208>"
      ]
     },
     "execution_count": 15,
     "metadata": {},
     "output_type": "execute_result"
    },
    {
     "data": {
      "image/png": "[encoded data removed]",
      "text/plain": [
       "<Figure size 864x288 with 1 Axes>"
      ]
     },
     "metadata": {},
     "output_type": "display_data"
    }
   ],
   "source": [
    "concat_df.plot(title=\"전국\") # 2006년01월 = 100"
   ]
  },
  {
   "cell_type": "markdown",
   "metadata": {},
   "source": [
    "# 주택가격 변동률"
   ]
  },
  {
   "cell_type": "code",
   "execution_count": 16,
   "metadata": {},
   "outputs": [
    {
     "data": {
      "text/plain": [
       "감정원 전국주택가격동향    100.0\n",
       "감정원 공동주택실거래     100.0\n",
       "KB 주택가격동향       100.0\n",
       "Name: 2006-01-31 00:00:00, dtype: float64"
      ]
     },
     "execution_count": 16,
     "metadata": {},
     "output_type": "execute_result"
    }
   ],
   "source": [
    "concat_df.loc[\"2006-01-31\"]"
   ]
  },
  {
   "cell_type": "code",
   "execution_count": 17,
   "metadata": {},
   "outputs": [
    {
     "data": {
      "text/plain": [
       "감정원 전국주택가격동향    154.218881\n",
       "감정원 공동주택실거래     182.580645\n",
       "KB 주택가격동향       159.213204\n",
       "Name: 2020-07-31 00:00:00, dtype: float64"
      ]
     },
     "execution_count": 17,
     "metadata": {},
     "output_type": "execute_result"
    }
   ],
   "source": [
    "concat_df.loc[\"2020-07-31\"]"
   ]
  },
  {
   "cell_type": "code",
   "execution_count": 18,
   "metadata": {},
   "outputs": [
    {
     "data": {
      "text/plain": [
       "감정원 전국주택가격동향    54.218881\n",
       "감정원 공동주택실거래     82.580645\n",
       "KB 주택가격동향       59.213204\n",
       "dtype: float64"
      ]
     },
     "execution_count": 18,
     "metadata": {},
     "output_type": "execute_result"
    }
   ],
   "source": [
    "((concat_df.loc[\"2020-07-31\"] - concat_df.loc[\"2006-01-31\"]) / concat_df.loc[\"2006-01-31\"]) * 100"
   ]
  },
  {
   "cell_type": "code",
   "execution_count": 19,
   "metadata": {},
   "outputs": [
    {
     "data": {
      "text/plain": [
       "감정원 전국주택가격동향     2.496870\n",
       "감정원 공동주택실거래     11.968348\n",
       "KB 주택가격동향        3.284235\n",
       "dtype: float64"
      ]
     },
     "execution_count": 19,
     "metadata": {},
     "output_type": "execute_result"
    }
   ],
   "source": [
    "((concat_df.loc[\"2020-07-31\"] - concat_df.loc[\"2019-01-31\"]) / concat_df.loc[\"2019-01-31\"]) * 100"
   ]
  },
  {
   "cell_type": "code",
   "execution_count": 20,
   "metadata": {},
   "outputs": [
    {
     "data": {
      "text/plain": [
       "감정원 전국주택가격동향     2.5%\n",
       "감정원 공동주택실거래     12.0%\n",
       "KB 주택가격동향        3.3%\n",
       "dtype: object"
      ]
     },
     "execution_count": 20,
     "metadata": {},
     "output_type": "execute_result"
    }
   ],
   "source": [
    "index_diff = (concat_df.loc[\"2020-07-31\"] - concat_df.loc[\"2019-01-31\"])\n",
    "rising_rate = (index_diff / concat_df.loc[\"2019-01-31\"]) * 100\n",
    "\n",
    "rising_rate = rising_rate.round(1).astype(\"str\") + \"%\"\n",
    "rising_rate"
   ]
  },
  {
   "cell_type": "code",
   "execution_count": 21,
   "metadata": {},
   "outputs": [
    {
     "data": {
      "text/html": [
       "<div>\n",
       "<style scoped>\n",
       "    .dataframe tbody tr th:only-of-type {\n",
       "        vertical-align: middle;\n",
       "    }\n",
       "\n",
       "    .dataframe tbody tr th {\n",
       "        vertical-align: top;\n",
       "    }\n",
       "\n",
       "    .dataframe thead th {\n",
       "        text-align: right;\n",
       "    }\n",
       "</style>\n",
       "<table border=\"1\" class=\"dataframe\">\n",
       "  <thead>\n",
       "    <tr style=\"text-align: right;\">\n",
       "      <th></th>\n",
       "      <th>변동률</th>\n",
       "    </tr>\n",
       "  </thead>\n",
       "  <tbody>\n",
       "    <tr>\n",
       "      <td>감정원 전국주택가격동향</td>\n",
       "      <td>2.5%</td>\n",
       "    </tr>\n",
       "    <tr>\n",
       "      <td>감정원 공동주택실거래</td>\n",
       "      <td>12.0%</td>\n",
       "    </tr>\n",
       "    <tr>\n",
       "      <td>KB 주택가격동향</td>\n",
       "      <td>3.3%</td>\n",
       "    </tr>\n",
       "  </tbody>\n",
       "</table>\n",
       "</div>"
      ],
      "text/plain": [
       "                변동률\n",
       "감정원 전국주택가격동향   2.5%\n",
       "감정원 공동주택실거래   12.0%\n",
       "KB 주택가격동향      3.3%"
      ]
     },
     "execution_count": 21,
     "metadata": {},
     "output_type": "execute_result"
    }
   ],
   "source": [
    "rising_rate = rising_rate.rename(\"변동률\").to_frame()\n",
    "rising_rate"
   ]
  },
  {
   "cell_type": "markdown",
   "metadata": {},
   "source": [
    "# Module 화 (def)"
   ]
  },
  {
   "cell_type": "code",
   "execution_count": 22,
   "metadata": {},
   "outputs": [
    {
     "data": {
      "text/plain": [
       "<matplotlib.axes._subplots.AxesSubplot at 0x1ef3b6435c8>"
      ]
     },
     "execution_count": 22,
     "metadata": {},
     "output_type": "execute_result"
    },
    {
     "data": {
      "image/png": "[encoded data removed]",
      "text/plain": [
       "<Figure size 864x288 with 1 Axes>"
      ]
     },
     "metadata": {},
     "output_type": "display_data"
    }
   ],
   "source": [
    "sido = \"전국\"\n",
    "\n",
    "# dataframe 병합\n",
    "concat_df = pd.concat([KAB1[sido], KAB2[sido], KB[sido]], axis=1)\n",
    "concat_df.columns = [\"감정원 전국주택가격동향\", \"감정원 공동주택실거래\", \"KB 주택가격동향\"]\n",
    "\n",
    "# NA 제거\n",
    "concat_df = concat_df.dropna()\n",
    "\n",
    "# 2006년1월 = 100 scaling #세종2013년4월=100\n",
    "concat_df = concat_df.apply(lambda x:(x/x[0])*100)\n",
    "\n",
    "# plot\n",
    "concat_df.plot(title=sido) # 2006년01월 = 100"
   ]
  },
  {
   "cell_type": "code",
   "execution_count": 23,
   "metadata": {},
   "outputs": [],
   "source": [
    "def get_concat_df(KAB1, KAB2, KB, sido = \"전국\"):\n",
    "    \n",
    "    # dataframe 병합\n",
    "    concat_df = pd.concat([KAB1[sido], KAB2[sido], KB[sido]], axis=1)\n",
    "    concat_df.columns = [\"감정원 전국주택가격동향\", \"감정원 공동주택실거래\", \"KB 주택가격동향\"]\n",
    "\n",
    "    # NA 제거\n",
    "    concat_df = concat_df.dropna()\n",
    "\n",
    "    # 2006년1월 = 100 scaling\n",
    "    concat_df = concat_df.apply(lambda x:(x/x[0])*100)\n",
    "\n",
    "    # plot\n",
    "    concat_df.plot(title=sido) # 2006년01월 = 100\n",
    "    \n",
    "    return concat_df"
   ]
  },
  {
   "cell_type": "code",
   "execution_count": 24,
   "metadata": {},
   "outputs": [
    {
     "data": {
      "image/png": "[encoded data removed]",
      "text/plain": [
       "<Figure size 864x288 with 1 Axes>"
      ]
     },
     "metadata": {},
     "output_type": "display_data"
    }
   ],
   "source": [
    "concat_df = get_concat_df(KAB1, KAB2, KB, sido = \"전국\")"
   ]
  },
  {
   "cell_type": "code",
   "execution_count": 25,
   "metadata": {},
   "outputs": [],
   "source": [
    "def get_rising_rate(concat_df, start_date=\"2019-01-31\", end_date=\"2020-07-31\"):\n",
    "    \n",
    "    index_diff = (concat_df.loc[end_date] - concat_df.loc[start_date])\n",
    "    rising_rate = (index_diff / concat_df.loc[start_date]) * 100\n",
    "    rising_rate = rising_rate.round(1).astype(\"str\") + \"%\"\n",
    "    rising_rate = rising_rate.rename(\"변동률\").to_frame()\n",
    "    \n",
    "    return rising_rate"
   ]
  },
  {
   "cell_type": "code",
   "execution_count": 26,
   "metadata": {},
   "outputs": [
    {
     "data": {
      "text/html": [
       "<div>\n",
       "<style scoped>\n",
       "    .dataframe tbody tr th:only-of-type {\n",
       "        vertical-align: middle;\n",
       "    }\n",
       "\n",
       "    .dataframe tbody tr th {\n",
       "        vertical-align: top;\n",
       "    }\n",
       "\n",
       "    .dataframe thead th {\n",
       "        text-align: right;\n",
       "    }\n",
       "</style>\n",
       "<table border=\"1\" class=\"dataframe\">\n",
       "  <thead>\n",
       "    <tr style=\"text-align: right;\">\n",
       "      <th></th>\n",
       "      <th>변동률</th>\n",
       "    </tr>\n",
       "  </thead>\n",
       "  <tbody>\n",
       "    <tr>\n",
       "      <td>감정원 전국주택가격동향</td>\n",
       "      <td>2.5%</td>\n",
       "    </tr>\n",
       "    <tr>\n",
       "      <td>감정원 공동주택실거래</td>\n",
       "      <td>12.0%</td>\n",
       "    </tr>\n",
       "    <tr>\n",
       "      <td>KB 주택가격동향</td>\n",
       "      <td>3.3%</td>\n",
       "    </tr>\n",
       "  </tbody>\n",
       "</table>\n",
       "</div>"
      ],
      "text/plain": [
       "                변동률\n",
       "감정원 전국주택가격동향   2.5%\n",
       "감정원 공동주택실거래   12.0%\n",
       "KB 주택가격동향      3.3%"
      ]
     },
     "execution_count": 26,
     "metadata": {},
     "output_type": "execute_result"
    }
   ],
   "source": [
    "rising_rate = get_rising_rate(concat_df, start_date=\"2019-01-31\", end_date=\"2020-07-31\")\n",
    "rising_rate"
   ]
  },
  {
   "cell_type": "code",
   "execution_count": 27,
   "metadata": {},
   "outputs": [],
   "source": [
    "def get_rising_rate_table(concat_df, first_date=\"2006-01-31\"):\n",
    "    # 구간1 : 2017년 8.2 대책 이후 1년 (2017-08-31 ~ 2018-09-30)\n",
    "    rising_rate1 = get_rising_rate(concat_df, start_date=\"2017-08-31\", end_date=\"2018-09-30\")\n",
    "\n",
    "    # 구간2 : 2018년 9.13 대책 이후 20년7월까지 (2018-09-30 ~ 2020-07-31)\n",
    "    rising_rate2 = get_rising_rate(concat_df, start_date=\"2018-09-30\", end_date=\"2020-07-31\")\n",
    "\n",
    "    # 구간3 : 2017년 8.2 대책 이후 20년7월까지 (2017-08-31 ~ 2020-07-31)\n",
    "    rising_rate3 = get_rising_rate(concat_df, start_date=\"2017-08-31\", end_date=\"2020-07-31\")\n",
    "\n",
    "    # 구간4 : 2006년1월 부터 2020년7월까지 (2006-01-31 ~ 2020-07-31)\n",
    "    rising_rate4 = get_rising_rate(concat_df, start_date=first_date, end_date=\"2020-07-31\")\n",
    "    \n",
    "    first_date = '.'.join(first_date.split('-')[0:2])\n",
    "\n",
    "    rate_df = pd.concat([rising_rate1,rising_rate2,rising_rate3,rising_rate4], axis=1)\n",
    "    rate_df.columns = [\"2017.08-2018.09\", \"2018.09-2020.07\", \\\n",
    "                       \"2017.08-2020.07\", first_date+\"-2020.07\"]\n",
    "    \n",
    "    return rate_df"
   ]
  },
  {
   "cell_type": "code",
   "execution_count": 28,
   "metadata": {},
   "outputs": [
    {
     "data": {
      "text/html": [
       "<div>\n",
       "<style scoped>\n",
       "    .dataframe tbody tr th:only-of-type {\n",
       "        vertical-align: middle;\n",
       "    }\n",
       "\n",
       "    .dataframe tbody tr th {\n",
       "        vertical-align: top;\n",
       "    }\n",
       "\n",
       "    .dataframe thead th {\n",
       "        text-align: right;\n",
       "    }\n",
       "</style>\n",
       "<table border=\"1\" class=\"dataframe\">\n",
       "  <thead>\n",
       "    <tr style=\"text-align: right;\">\n",
       "      <th></th>\n",
       "      <th>2017.08-2018.09</th>\n",
       "      <th>2018.09-2020.07</th>\n",
       "      <th>2017.08-2020.07</th>\n",
       "      <th>2006.01-2020.07</th>\n",
       "    </tr>\n",
       "  </thead>\n",
       "  <tbody>\n",
       "    <tr>\n",
       "      <td>감정원 전국주택가격동향</td>\n",
       "      <td>0.4%</td>\n",
       "      <td>2.1%</td>\n",
       "      <td>2.6%</td>\n",
       "      <td>54.2%</td>\n",
       "    </tr>\n",
       "    <tr>\n",
       "      <td>감정원 공동주택실거래</td>\n",
       "      <td>2.6%</td>\n",
       "      <td>10.2%</td>\n",
       "      <td>13.1%</td>\n",
       "      <td>82.6%</td>\n",
       "    </tr>\n",
       "    <tr>\n",
       "      <td>KB 주택가격동향</td>\n",
       "      <td>2.7%</td>\n",
       "      <td>4.0%</td>\n",
       "      <td>6.8%</td>\n",
       "      <td>59.2%</td>\n",
       "    </tr>\n",
       "  </tbody>\n",
       "</table>\n",
       "</div>"
      ],
      "text/plain": [
       "             2017.08-2018.09 2018.09-2020.07 2017.08-2020.07 2006.01-2020.07\n",
       "감정원 전국주택가격동향            0.4%            2.1%            2.6%           54.2%\n",
       "감정원 공동주택실거래             2.6%           10.2%           13.1%           82.6%\n",
       "KB 주택가격동향               2.7%            4.0%            6.8%           59.2%"
      ]
     },
     "execution_count": 28,
     "metadata": {},
     "output_type": "execute_result"
    }
   ],
   "source": [
    "get_rising_rate_table(concat_df, first_date=\"2006-01-31\")"
   ]
  },
  {
   "cell_type": "code",
   "execution_count": null,
   "metadata": {},
   "outputs": [],
   "source": []
  }
 ],
 "metadata": {
  "kernelspec": {
   "display_name": "Python 3",
   "language": "python",
   "name": "python3"
  },
  "language_info": {
   "codemirror_mode": {
    "name": "ipython",
    "version": 3
   },
   "file_extension": ".py",
   "mimetype": "text/x-python",
   "name": "python",
   "nbconvert_exporter": "python",
   "pygments_lexer": "ipython3",
   "version": "3.7.4"
  }
 },
 "nbformat": 4,
 "nbformat_minor": 4
}
