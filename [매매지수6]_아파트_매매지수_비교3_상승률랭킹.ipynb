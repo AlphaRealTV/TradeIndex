{
 "cells": [
  {
   "cell_type": "markdown",
   "metadata": {
    "slideshow": {
     "slide_type": "slide"
    }
   },
   "source": [
    "* * *\n",
    "# 기간별 가격 상승률 랭킹\n",
    "* * *\n",
    "###  한국감정원 공동주택실거래가격지수, 아파트, 매매\n",
    "* * *\n",
    "### 기간1 : 2017년 8.2 대책 이후 1년 (2017-08 ~ 2018-09)\n",
    "### 기간2 : 2018년 9.13 대책 이후 20년7월까지 (2018-09 ~ 2020-07)\n",
    "### 기간3 : 2017년 8.2 대책 이후 20년7월까지 (2017-08 ~ 2020-07)\n",
    "### 기간4 : 2006년1월 부터 2020년7월까지 (2006-01 ~ 2020-07)\n",
    "* * *\n",
    " <br>"
   ]
  },
  {
   "cell_type": "code",
   "execution_count": 2,
   "metadata": {
    "slideshow": {
     "slide_type": "skip"
    }
   },
   "outputs": [],
   "source": [
    "import os, sys\n",
    "import math\n",
    "import datetime\n",
    "import time as t\n",
    "\n",
    "import numpy as np\n",
    "import pandas as pd\n",
    "import matplotlib as mpl\n",
    "import matplotlib.pyplot as plt\n",
    "from matplotlib import style\n",
    "\n",
    "style.use('dark_background')\n",
    "plt.rcParams[\"font.family\"] = \"Malgun Gothic\"\n",
    "plt.rcParams[\"figure.figsize\"] = (13,5)\n",
    "plt.rcParams['axes.unicode_minus'] = False"
   ]
  },
  {
   "cell_type": "markdown",
   "metadata": {
    "slideshow": {
     "slide_type": "subslide"
    }
   },
   "source": [
    "# csv file 읽기"
   ]
  },
  {
   "cell_type": "code",
   "execution_count": 3,
   "metadata": {},
   "outputs": [],
   "source": [
    "KAB1_csv_file = \"Dataset/KAB_APT_tradeIndex1.csv\" # 한국감정원 전국주택가격동향조사\n",
    "KAB2_csv_file = \"Dataset/KAB_APT_tradeIndex2.csv\" # 한국감정원 공동주택실거래가격지수\n",
    "KB_csv_file = \"Dataset/KB_APT_tradeIndex.csv\" # KB 주택가격동향\n",
    "\n",
    "KAB1 = pd.read_csv(KAB1_csv_file, index_col=\"날짜\", parse_dates=True)\n",
    "KAB2 = pd.read_csv(KAB2_csv_file, index_col=\"날짜\", parse_dates=True)\n",
    "KB = pd.read_csv(KB_csv_file, index_col=\"날짜\", parse_dates=True)"
   ]
  },
  {
   "cell_type": "markdown",
   "metadata": {
    "slideshow": {
     "slide_type": "skip"
    }
   },
   "source": [
    "# Module화 함수"
   ]
  },
  {
   "cell_type": "code",
   "execution_count": 4,
   "metadata": {
    "slideshow": {
     "slide_type": "skip"
    }
   },
   "outputs": [],
   "source": [
    "def get_rising_rate(concat_df, start_date=\"2019-01-31\", end_date=\"2020-07-31\"):\n",
    "    \n",
    "    index_diff = (concat_df.loc[end_date] - concat_df.loc[start_date])\n",
    "    rising_rate = (index_diff / concat_df.loc[start_date]) * 100\n",
    "    rising_rate = rising_rate.round(1).astype(\"str\") + \"%\"\n",
    "    rising_rate = rising_rate.rename(\"변동률\").to_frame()\n",
    "    \n",
    "    return rising_rate"
   ]
  },
  {
   "cell_type": "code",
   "execution_count": 5,
   "metadata": {
    "slideshow": {
     "slide_type": "skip"
    }
   },
   "outputs": [],
   "source": [
    "def get_rising_rate_table(concat_df, first_date=\"2006-01-31\"):\n",
    "    # 구간1 : 2017년 8.2 대책 이후 1년 (2017-08-31 ~ 2018-09-30)\n",
    "    rising_rate1 = get_rising_rate(concat_df, start_date=\"2017-08-31\", end_date=\"2018-09-30\")\n",
    "\n",
    "    # 구간2 : 2018년 9.13 대책 이후 20년7월까지 (2018-09-30 ~ 2020-07-31)\n",
    "    rising_rate2 = get_rising_rate(concat_df, start_date=\"2018-09-30\", end_date=\"2020-07-31\")\n",
    "\n",
    "    # 구간3 : 2017년 8.2 대책 이후 20년7월까지 (2017-08-31 ~ 2020-07-31)\n",
    "    rising_rate3 = get_rising_rate(concat_df, start_date=\"2017-08-31\", end_date=\"2020-07-31\")\n",
    "\n",
    "    # 구간4 : 2006년1월 부터 2020년7월까지 (2006-01-31 ~ 2020-07-31)\n",
    "    rising_rate4 = get_rising_rate(concat_df, start_date=first_date, end_date=\"2020-07-31\")\n",
    "    \n",
    "    first_date = '.'.join(first_date.split('-')[0:2])\n",
    "\n",
    "    rate_df = pd.concat([rising_rate1,rising_rate2,rising_rate3,rising_rate4], axis=1)\n",
    "    rate_df.columns = [\"2017.08-2018.09\", \"2018.09-2020.07\", \\\n",
    "                       \"2017.08-2020.07\", first_date+\"-2020.07\"]\n",
    "    \n",
    "    return rate_df"
   ]
  },
  {
   "cell_type": "markdown",
   "metadata": {
    "slideshow": {
     "slide_type": "slide"
    }
   },
   "source": [
    "# 한국감정원 실거래가격지수 변동률 비교"
   ]
  },
  {
   "cell_type": "code",
   "execution_count": 6,
   "metadata": {},
   "outputs": [
    {
     "data": {
      "text/html": [
       "<div>\n",
       "<style scoped>\n",
       "    .dataframe tbody tr th:only-of-type {\n",
       "        vertical-align: middle;\n",
       "    }\n",
       "\n",
       "    .dataframe tbody tr th {\n",
       "        vertical-align: top;\n",
       "    }\n",
       "\n",
       "    .dataframe thead th {\n",
       "        text-align: right;\n",
       "    }\n",
       "</style>\n",
       "<table border=\"1\" class=\"dataframe\">\n",
       "  <thead>\n",
       "    <tr style=\"text-align: right;\">\n",
       "      <th></th>\n",
       "      <th>2017.08-2018.09</th>\n",
       "      <th>2018.09-2020.07</th>\n",
       "      <th>2017.08-2020.07</th>\n",
       "      <th>2006.01-2020.07</th>\n",
       "    </tr>\n",
       "  </thead>\n",
       "  <tbody>\n",
       "    <tr>\n",
       "      <td>전국</td>\n",
       "      <td>2.6%</td>\n",
       "      <td>10.2%</td>\n",
       "      <td>13.1%</td>\n",
       "      <td>82.6%</td>\n",
       "    </tr>\n",
       "    <tr>\n",
       "      <td>서울</td>\n",
       "      <td>23.2%</td>\n",
       "      <td>20.7%</td>\n",
       "      <td>48.8%</td>\n",
       "      <td>141.5%</td>\n",
       "    </tr>\n",
       "    <tr>\n",
       "      <td>부산</td>\n",
       "      <td>-4.7%</td>\n",
       "      <td>5.2%</td>\n",
       "      <td>0.3%</td>\n",
       "      <td>103.4%</td>\n",
       "    </tr>\n",
       "    <tr>\n",
       "      <td>대구</td>\n",
       "      <td>5.5%</td>\n",
       "      <td>6.7%</td>\n",
       "      <td>12.6%</td>\n",
       "      <td>77.5%</td>\n",
       "    </tr>\n",
       "    <tr>\n",
       "      <td>인천</td>\n",
       "      <td>-0.8%</td>\n",
       "      <td>12.3%</td>\n",
       "      <td>11.5%</td>\n",
       "      <td>79.6%</td>\n",
       "    </tr>\n",
       "    <tr>\n",
       "      <td>광주</td>\n",
       "      <td>10.0%</td>\n",
       "      <td>5.9%</td>\n",
       "      <td>16.5%</td>\n",
       "      <td>113.7%</td>\n",
       "    </tr>\n",
       "    <tr>\n",
       "      <td>대전</td>\n",
       "      <td>-0.2%</td>\n",
       "      <td>29.5%</td>\n",
       "      <td>29.3%</td>\n",
       "      <td>71.6%</td>\n",
       "    </tr>\n",
       "    <tr>\n",
       "      <td>울산</td>\n",
       "      <td>-10.4%</td>\n",
       "      <td>4.6%</td>\n",
       "      <td>-6.3%</td>\n",
       "      <td>94.7%</td>\n",
       "    </tr>\n",
       "    <tr>\n",
       "      <td>세종</td>\n",
       "      <td>2.6%</td>\n",
       "      <td>36.1%</td>\n",
       "      <td>39.6%</td>\n",
       "      <td>102.2%</td>\n",
       "    </tr>\n",
       "    <tr>\n",
       "      <td>경기</td>\n",
       "      <td>2.6%</td>\n",
       "      <td>15.5%</td>\n",
       "      <td>18.4%</td>\n",
       "      <td>71.7%</td>\n",
       "    </tr>\n",
       "    <tr>\n",
       "      <td>강원</td>\n",
       "      <td>-2.4%</td>\n",
       "      <td>-5.9%</td>\n",
       "      <td>-8.2%</td>\n",
       "      <td>48.8%</td>\n",
       "    </tr>\n",
       "    <tr>\n",
       "      <td>충북</td>\n",
       "      <td>-5.9%</td>\n",
       "      <td>0.7%</td>\n",
       "      <td>-5.2%</td>\n",
       "      <td>45.6%</td>\n",
       "    </tr>\n",
       "    <tr>\n",
       "      <td>충남</td>\n",
       "      <td>-5.9%</td>\n",
       "      <td>3.1%</td>\n",
       "      <td>-3.1%</td>\n",
       "      <td>29.5%</td>\n",
       "    </tr>\n",
       "    <tr>\n",
       "      <td>전북</td>\n",
       "      <td>-1.6%</td>\n",
       "      <td>-1.0%</td>\n",
       "      <td>-2.6%</td>\n",
       "      <td>70.3%</td>\n",
       "    </tr>\n",
       "    <tr>\n",
       "      <td>전남</td>\n",
       "      <td>3.1%</td>\n",
       "      <td>4.4%</td>\n",
       "      <td>7.7%</td>\n",
       "      <td>108.8%</td>\n",
       "    </tr>\n",
       "    <tr>\n",
       "      <td>경북</td>\n",
       "      <td>-7.1%</td>\n",
       "      <td>-3.0%</td>\n",
       "      <td>-9.9%</td>\n",
       "      <td>37.4%</td>\n",
       "    </tr>\n",
       "    <tr>\n",
       "      <td>경남</td>\n",
       "      <td>-9.9%</td>\n",
       "      <td>-2.2%</td>\n",
       "      <td>-11.8%</td>\n",
       "      <td>43.3%</td>\n",
       "    </tr>\n",
       "    <tr>\n",
       "      <td>제주</td>\n",
       "      <td>1.3%</td>\n",
       "      <td>-6.3%</td>\n",
       "      <td>-5.0%</td>\n",
       "      <td>139.0%</td>\n",
       "    </tr>\n",
       "  </tbody>\n",
       "</table>\n",
       "</div>"
      ],
      "text/plain": [
       "   2017.08-2018.09 2018.09-2020.07 2017.08-2020.07 2006.01-2020.07\n",
       "전국            2.6%           10.2%           13.1%           82.6%\n",
       "서울           23.2%           20.7%           48.8%          141.5%\n",
       "부산           -4.7%            5.2%            0.3%          103.4%\n",
       "대구            5.5%            6.7%           12.6%           77.5%\n",
       "인천           -0.8%           12.3%           11.5%           79.6%\n",
       "광주           10.0%            5.9%           16.5%          113.7%\n",
       "대전           -0.2%           29.5%           29.3%           71.6%\n",
       "울산          -10.4%            4.6%           -6.3%           94.7%\n",
       "세종            2.6%           36.1%           39.6%          102.2%\n",
       "경기            2.6%           15.5%           18.4%           71.7%\n",
       "강원           -2.4%           -5.9%           -8.2%           48.8%\n",
       "충북           -5.9%            0.7%           -5.2%           45.6%\n",
       "충남           -5.9%            3.1%           -3.1%           29.5%\n",
       "전북           -1.6%           -1.0%           -2.6%           70.3%\n",
       "전남            3.1%            4.4%            7.7%          108.8%\n",
       "경북           -7.1%           -3.0%           -9.9%           37.4%\n",
       "경남           -9.9%           -2.2%          -11.8%           43.3%\n",
       "제주            1.3%           -6.3%           -5.0%          139.0%"
      ]
     },
     "execution_count": 6,
     "metadata": {},
     "output_type": "execute_result"
    }
   ],
   "source": [
    "get_rising_rate_table(KAB2, first_date=\"2006-01-31\")"
   ]
  },
  {
   "cell_type": "markdown",
   "metadata": {
    "slideshow": {
     "slide_type": "subslide"
    }
   },
   "source": [
    "## string -> float 타입변환"
   ]
  },
  {
   "cell_type": "code",
   "execution_count": 7,
   "metadata": {},
   "outputs": [
    {
     "data": {
      "text/html": [
       "<div>\n",
       "<style scoped>\n",
       "    .dataframe tbody tr th:only-of-type {\n",
       "        vertical-align: middle;\n",
       "    }\n",
       "\n",
       "    .dataframe tbody tr th {\n",
       "        vertical-align: top;\n",
       "    }\n",
       "\n",
       "    .dataframe thead th {\n",
       "        text-align: right;\n",
       "    }\n",
       "</style>\n",
       "<table border=\"1\" class=\"dataframe\">\n",
       "  <thead>\n",
       "    <tr style=\"text-align: right;\">\n",
       "      <th></th>\n",
       "      <th>2017.08-2018.09</th>\n",
       "      <th>2018.09-2020.07</th>\n",
       "      <th>2017.08-2020.07</th>\n",
       "      <th>2006.01-2020.07</th>\n",
       "    </tr>\n",
       "  </thead>\n",
       "  <tbody>\n",
       "    <tr>\n",
       "      <td>전국</td>\n",
       "      <td>2.6</td>\n",
       "      <td>10.2</td>\n",
       "      <td>13.1</td>\n",
       "      <td>82.6</td>\n",
       "    </tr>\n",
       "    <tr>\n",
       "      <td>서울</td>\n",
       "      <td>23.2</td>\n",
       "      <td>20.7</td>\n",
       "      <td>48.8</td>\n",
       "      <td>141.5</td>\n",
       "    </tr>\n",
       "    <tr>\n",
       "      <td>부산</td>\n",
       "      <td>-4.7</td>\n",
       "      <td>5.2</td>\n",
       "      <td>0.3</td>\n",
       "      <td>103.4</td>\n",
       "    </tr>\n",
       "    <tr>\n",
       "      <td>대구</td>\n",
       "      <td>5.5</td>\n",
       "      <td>6.7</td>\n",
       "      <td>12.6</td>\n",
       "      <td>77.5</td>\n",
       "    </tr>\n",
       "    <tr>\n",
       "      <td>인천</td>\n",
       "      <td>-0.8</td>\n",
       "      <td>12.3</td>\n",
       "      <td>11.5</td>\n",
       "      <td>79.6</td>\n",
       "    </tr>\n",
       "  </tbody>\n",
       "</table>\n",
       "</div>"
      ],
      "text/plain": [
       "    2017.08-2018.09  2018.09-2020.07  2017.08-2020.07  2006.01-2020.07\n",
       "전국              2.6             10.2             13.1             82.6\n",
       "서울             23.2             20.7             48.8            141.5\n",
       "부산             -4.7              5.2              0.3            103.4\n",
       "대구              5.5              6.7             12.6             77.5\n",
       "인천             -0.8             12.3             11.5             79.6"
      ]
     },
     "execution_count": 7,
     "metadata": {},
     "output_type": "execute_result"
    }
   ],
   "source": [
    "KAB2_comp = get_rising_rate_table(KAB2, first_date=\"2006-01-31\")\n",
    "KAB2_comp = KAB2_comp.replace({\"%\":\"\"}, regex=True).astype(\"float\")\n",
    "KAB2_comp.head()"
   ]
  },
  {
   "cell_type": "markdown",
   "metadata": {
    "slideshow": {
     "slide_type": "slide"
    }
   },
   "source": [
    "## 2017.08.02 ~ 2018.09.13 기간"
   ]
  },
  {
   "cell_type": "code",
   "execution_count": 8,
   "metadata": {},
   "outputs": [
    {
     "data": {
      "text/html": [
       "<div>\n",
       "<style scoped>\n",
       "    .dataframe tbody tr th:only-of-type {\n",
       "        vertical-align: middle;\n",
       "    }\n",
       "\n",
       "    .dataframe tbody tr th {\n",
       "        vertical-align: top;\n",
       "    }\n",
       "\n",
       "    .dataframe thead th {\n",
       "        text-align: right;\n",
       "    }\n",
       "</style>\n",
       "<table border=\"1\" class=\"dataframe\">\n",
       "  <thead>\n",
       "    <tr style=\"text-align: right;\">\n",
       "      <th></th>\n",
       "      <th>2017.08-2018.09</th>\n",
       "      <th>2018.09-2020.07</th>\n",
       "      <th>2017.08-2020.07</th>\n",
       "      <th>2006.01-2020.07</th>\n",
       "    </tr>\n",
       "  </thead>\n",
       "  <tbody>\n",
       "    <tr>\n",
       "      <td>서울</td>\n",
       "      <td>23.2</td>\n",
       "      <td>20.7</td>\n",
       "      <td>48.8</td>\n",
       "      <td>141.5</td>\n",
       "    </tr>\n",
       "    <tr>\n",
       "      <td>광주</td>\n",
       "      <td>10.0</td>\n",
       "      <td>5.9</td>\n",
       "      <td>16.5</td>\n",
       "      <td>113.7</td>\n",
       "    </tr>\n",
       "    <tr>\n",
       "      <td>대구</td>\n",
       "      <td>5.5</td>\n",
       "      <td>6.7</td>\n",
       "      <td>12.6</td>\n",
       "      <td>77.5</td>\n",
       "    </tr>\n",
       "    <tr>\n",
       "      <td>전남</td>\n",
       "      <td>3.1</td>\n",
       "      <td>4.4</td>\n",
       "      <td>7.7</td>\n",
       "      <td>108.8</td>\n",
       "    </tr>\n",
       "    <tr>\n",
       "      <td>전국</td>\n",
       "      <td>2.6</td>\n",
       "      <td>10.2</td>\n",
       "      <td>13.1</td>\n",
       "      <td>82.6</td>\n",
       "    </tr>\n",
       "    <tr>\n",
       "      <td>세종</td>\n",
       "      <td>2.6</td>\n",
       "      <td>36.1</td>\n",
       "      <td>39.6</td>\n",
       "      <td>102.2</td>\n",
       "    </tr>\n",
       "    <tr>\n",
       "      <td>경기</td>\n",
       "      <td>2.6</td>\n",
       "      <td>15.5</td>\n",
       "      <td>18.4</td>\n",
       "      <td>71.7</td>\n",
       "    </tr>\n",
       "    <tr>\n",
       "      <td>제주</td>\n",
       "      <td>1.3</td>\n",
       "      <td>-6.3</td>\n",
       "      <td>-5.0</td>\n",
       "      <td>139.0</td>\n",
       "    </tr>\n",
       "    <tr>\n",
       "      <td>대전</td>\n",
       "      <td>-0.2</td>\n",
       "      <td>29.5</td>\n",
       "      <td>29.3</td>\n",
       "      <td>71.6</td>\n",
       "    </tr>\n",
       "    <tr>\n",
       "      <td>인천</td>\n",
       "      <td>-0.8</td>\n",
       "      <td>12.3</td>\n",
       "      <td>11.5</td>\n",
       "      <td>79.6</td>\n",
       "    </tr>\n",
       "    <tr>\n",
       "      <td>전북</td>\n",
       "      <td>-1.6</td>\n",
       "      <td>-1.0</td>\n",
       "      <td>-2.6</td>\n",
       "      <td>70.3</td>\n",
       "    </tr>\n",
       "    <tr>\n",
       "      <td>강원</td>\n",
       "      <td>-2.4</td>\n",
       "      <td>-5.9</td>\n",
       "      <td>-8.2</td>\n",
       "      <td>48.8</td>\n",
       "    </tr>\n",
       "    <tr>\n",
       "      <td>부산</td>\n",
       "      <td>-4.7</td>\n",
       "      <td>5.2</td>\n",
       "      <td>0.3</td>\n",
       "      <td>103.4</td>\n",
       "    </tr>\n",
       "    <tr>\n",
       "      <td>충북</td>\n",
       "      <td>-5.9</td>\n",
       "      <td>0.7</td>\n",
       "      <td>-5.2</td>\n",
       "      <td>45.6</td>\n",
       "    </tr>\n",
       "    <tr>\n",
       "      <td>충남</td>\n",
       "      <td>-5.9</td>\n",
       "      <td>3.1</td>\n",
       "      <td>-3.1</td>\n",
       "      <td>29.5</td>\n",
       "    </tr>\n",
       "    <tr>\n",
       "      <td>경북</td>\n",
       "      <td>-7.1</td>\n",
       "      <td>-3.0</td>\n",
       "      <td>-9.9</td>\n",
       "      <td>37.4</td>\n",
       "    </tr>\n",
       "    <tr>\n",
       "      <td>경남</td>\n",
       "      <td>-9.9</td>\n",
       "      <td>-2.2</td>\n",
       "      <td>-11.8</td>\n",
       "      <td>43.3</td>\n",
       "    </tr>\n",
       "    <tr>\n",
       "      <td>울산</td>\n",
       "      <td>-10.4</td>\n",
       "      <td>4.6</td>\n",
       "      <td>-6.3</td>\n",
       "      <td>94.7</td>\n",
       "    </tr>\n",
       "  </tbody>\n",
       "</table>\n",
       "</div>"
      ],
      "text/plain": [
       "    2017.08-2018.09  2018.09-2020.07  2017.08-2020.07  2006.01-2020.07\n",
       "서울             23.2             20.7             48.8            141.5\n",
       "광주             10.0              5.9             16.5            113.7\n",
       "대구              5.5              6.7             12.6             77.5\n",
       "전남              3.1              4.4              7.7            108.8\n",
       "전국              2.6             10.2             13.1             82.6\n",
       "세종              2.6             36.1             39.6            102.2\n",
       "경기              2.6             15.5             18.4             71.7\n",
       "제주              1.3             -6.3             -5.0            139.0\n",
       "대전             -0.2             29.5             29.3             71.6\n",
       "인천             -0.8             12.3             11.5             79.6\n",
       "전북             -1.6             -1.0             -2.6             70.3\n",
       "강원             -2.4             -5.9             -8.2             48.8\n",
       "부산             -4.7              5.2              0.3            103.4\n",
       "충북             -5.9              0.7             -5.2             45.6\n",
       "충남             -5.9              3.1             -3.1             29.5\n",
       "경북             -7.1             -3.0             -9.9             37.4\n",
       "경남             -9.9             -2.2            -11.8             43.3\n",
       "울산            -10.4              4.6             -6.3             94.7"
      ]
     },
     "execution_count": 8,
     "metadata": {},
     "output_type": "execute_result"
    }
   ],
   "source": [
    "KAB2_comp.sort_values(by=[\"2017.08-2018.09\"], ascending=False)"
   ]
  },
  {
   "cell_type": "code",
   "execution_count": 9,
   "metadata": {
    "slideshow": {
     "slide_type": "subslide"
    }
   },
   "outputs": [
    {
     "data": {
      "image/png": "[encoded data removed]",
      "text/plain": [
       "<Figure size 936x360 with 1 Axes>"
      ]
     },
     "metadata": {},
     "output_type": "display_data"
    }
   ],
   "source": [
    "ax = KAB2_comp[\"2017.08-2018.09\"].sort_values(ascending=False).plot.bar()\n",
    "for p in ax.patches:\n",
    "    ax.annotate(str(p.get_height()), (p.get_x() * 1.00, p.get_height() * 1.01))"
   ]
  },
  {
   "cell_type": "markdown",
   "metadata": {
    "slideshow": {
     "slide_type": "slide"
    }
   },
   "source": [
    "## 2018.09.13 ~ 2020.07 기간"
   ]
  },
  {
   "cell_type": "code",
   "execution_count": 10,
   "metadata": {},
   "outputs": [
    {
     "data": {
      "text/html": [
       "<div>\n",
       "<style scoped>\n",
       "    .dataframe tbody tr th:only-of-type {\n",
       "        vertical-align: middle;\n",
       "    }\n",
       "\n",
       "    .dataframe tbody tr th {\n",
       "        vertical-align: top;\n",
       "    }\n",
       "\n",
       "    .dataframe thead th {\n",
       "        text-align: right;\n",
       "    }\n",
       "</style>\n",
       "<table border=\"1\" class=\"dataframe\">\n",
       "  <thead>\n",
       "    <tr style=\"text-align: right;\">\n",
       "      <th></th>\n",
       "      <th>2017.08-2018.09</th>\n",
       "      <th>2018.09-2020.07</th>\n",
       "      <th>2017.08-2020.07</th>\n",
       "      <th>2006.01-2020.07</th>\n",
       "    </tr>\n",
       "  </thead>\n",
       "  <tbody>\n",
       "    <tr>\n",
       "      <td>세종</td>\n",
       "      <td>2.6</td>\n",
       "      <td>36.1</td>\n",
       "      <td>39.6</td>\n",
       "      <td>102.2</td>\n",
       "    </tr>\n",
       "    <tr>\n",
       "      <td>대전</td>\n",
       "      <td>-0.2</td>\n",
       "      <td>29.5</td>\n",
       "      <td>29.3</td>\n",
       "      <td>71.6</td>\n",
       "    </tr>\n",
       "    <tr>\n",
       "      <td>서울</td>\n",
       "      <td>23.2</td>\n",
       "      <td>20.7</td>\n",
       "      <td>48.8</td>\n",
       "      <td>141.5</td>\n",
       "    </tr>\n",
       "    <tr>\n",
       "      <td>경기</td>\n",
       "      <td>2.6</td>\n",
       "      <td>15.5</td>\n",
       "      <td>18.4</td>\n",
       "      <td>71.7</td>\n",
       "    </tr>\n",
       "    <tr>\n",
       "      <td>인천</td>\n",
       "      <td>-0.8</td>\n",
       "      <td>12.3</td>\n",
       "      <td>11.5</td>\n",
       "      <td>79.6</td>\n",
       "    </tr>\n",
       "    <tr>\n",
       "      <td>전국</td>\n",
       "      <td>2.6</td>\n",
       "      <td>10.2</td>\n",
       "      <td>13.1</td>\n",
       "      <td>82.6</td>\n",
       "    </tr>\n",
       "    <tr>\n",
       "      <td>대구</td>\n",
       "      <td>5.5</td>\n",
       "      <td>6.7</td>\n",
       "      <td>12.6</td>\n",
       "      <td>77.5</td>\n",
       "    </tr>\n",
       "    <tr>\n",
       "      <td>광주</td>\n",
       "      <td>10.0</td>\n",
       "      <td>5.9</td>\n",
       "      <td>16.5</td>\n",
       "      <td>113.7</td>\n",
       "    </tr>\n",
       "    <tr>\n",
       "      <td>부산</td>\n",
       "      <td>-4.7</td>\n",
       "      <td>5.2</td>\n",
       "      <td>0.3</td>\n",
       "      <td>103.4</td>\n",
       "    </tr>\n",
       "    <tr>\n",
       "      <td>울산</td>\n",
       "      <td>-10.4</td>\n",
       "      <td>4.6</td>\n",
       "      <td>-6.3</td>\n",
       "      <td>94.7</td>\n",
       "    </tr>\n",
       "    <tr>\n",
       "      <td>전남</td>\n",
       "      <td>3.1</td>\n",
       "      <td>4.4</td>\n",
       "      <td>7.7</td>\n",
       "      <td>108.8</td>\n",
       "    </tr>\n",
       "    <tr>\n",
       "      <td>충남</td>\n",
       "      <td>-5.9</td>\n",
       "      <td>3.1</td>\n",
       "      <td>-3.1</td>\n",
       "      <td>29.5</td>\n",
       "    </tr>\n",
       "    <tr>\n",
       "      <td>충북</td>\n",
       "      <td>-5.9</td>\n",
       "      <td>0.7</td>\n",
       "      <td>-5.2</td>\n",
       "      <td>45.6</td>\n",
       "    </tr>\n",
       "    <tr>\n",
       "      <td>전북</td>\n",
       "      <td>-1.6</td>\n",
       "      <td>-1.0</td>\n",
       "      <td>-2.6</td>\n",
       "      <td>70.3</td>\n",
       "    </tr>\n",
       "    <tr>\n",
       "      <td>경남</td>\n",
       "      <td>-9.9</td>\n",
       "      <td>-2.2</td>\n",
       "      <td>-11.8</td>\n",
       "      <td>43.3</td>\n",
       "    </tr>\n",
       "    <tr>\n",
       "      <td>경북</td>\n",
       "      <td>-7.1</td>\n",
       "      <td>-3.0</td>\n",
       "      <td>-9.9</td>\n",
       "      <td>37.4</td>\n",
       "    </tr>\n",
       "    <tr>\n",
       "      <td>강원</td>\n",
       "      <td>-2.4</td>\n",
       "      <td>-5.9</td>\n",
       "      <td>-8.2</td>\n",
       "      <td>48.8</td>\n",
       "    </tr>\n",
       "    <tr>\n",
       "      <td>제주</td>\n",
       "      <td>1.3</td>\n",
       "      <td>-6.3</td>\n",
       "      <td>-5.0</td>\n",
       "      <td>139.0</td>\n",
       "    </tr>\n",
       "  </tbody>\n",
       "</table>\n",
       "</div>"
      ],
      "text/plain": [
       "    2017.08-2018.09  2018.09-2020.07  2017.08-2020.07  2006.01-2020.07\n",
       "세종              2.6             36.1             39.6            102.2\n",
       "대전             -0.2             29.5             29.3             71.6\n",
       "서울             23.2             20.7             48.8            141.5\n",
       "경기              2.6             15.5             18.4             71.7\n",
       "인천             -0.8             12.3             11.5             79.6\n",
       "전국              2.6             10.2             13.1             82.6\n",
       "대구              5.5              6.7             12.6             77.5\n",
       "광주             10.0              5.9             16.5            113.7\n",
       "부산             -4.7              5.2              0.3            103.4\n",
       "울산            -10.4              4.6             -6.3             94.7\n",
       "전남              3.1              4.4              7.7            108.8\n",
       "충남             -5.9              3.1             -3.1             29.5\n",
       "충북             -5.9              0.7             -5.2             45.6\n",
       "전북             -1.6             -1.0             -2.6             70.3\n",
       "경남             -9.9             -2.2            -11.8             43.3\n",
       "경북             -7.1             -3.0             -9.9             37.4\n",
       "강원             -2.4             -5.9             -8.2             48.8\n",
       "제주              1.3             -6.3             -5.0            139.0"
      ]
     },
     "execution_count": 10,
     "metadata": {},
     "output_type": "execute_result"
    }
   ],
   "source": [
    "KAB2_comp.sort_values(by=[\"2018.09-2020.07\"], ascending=False)"
   ]
  },
  {
   "cell_type": "code",
   "execution_count": 11,
   "metadata": {
    "slideshow": {
     "slide_type": "subslide"
    }
   },
   "outputs": [
    {
     "data": {
      "image/png": "[encoded data removed]",
      "text/plain": [
       "<Figure size 936x360 with 1 Axes>"
      ]
     },
     "metadata": {},
     "output_type": "display_data"
    }
   ],
   "source": [
    "ax = KAB2_comp[\"2018.09-2020.07\"].sort_values(ascending=False).plot.bar()\n",
    "for p in ax.patches:\n",
    "    ax.annotate(str(p.get_height()), (p.get_x() * 1.00, p.get_height() * 1.01))"
   ]
  },
  {
   "cell_type": "markdown",
   "metadata": {
    "slideshow": {
     "slide_type": "slide"
    }
   },
   "source": [
    "## 2017.08.02 ~ 2020.07 기간"
   ]
  },
  {
   "cell_type": "code",
   "execution_count": 12,
   "metadata": {},
   "outputs": [
    {
     "data": {
      "text/html": [
       "<div>\n",
       "<style scoped>\n",
       "    .dataframe tbody tr th:only-of-type {\n",
       "        vertical-align: middle;\n",
       "    }\n",
       "\n",
       "    .dataframe tbody tr th {\n",
       "        vertical-align: top;\n",
       "    }\n",
       "\n",
       "    .dataframe thead th {\n",
       "        text-align: right;\n",
       "    }\n",
       "</style>\n",
       "<table border=\"1\" class=\"dataframe\">\n",
       "  <thead>\n",
       "    <tr style=\"text-align: right;\">\n",
       "      <th></th>\n",
       "      <th>2017.08-2018.09</th>\n",
       "      <th>2018.09-2020.07</th>\n",
       "      <th>2017.08-2020.07</th>\n",
       "      <th>2006.01-2020.07</th>\n",
       "    </tr>\n",
       "  </thead>\n",
       "  <tbody>\n",
       "    <tr>\n",
       "      <td>서울</td>\n",
       "      <td>23.2</td>\n",
       "      <td>20.7</td>\n",
       "      <td>48.8</td>\n",
       "      <td>141.5</td>\n",
       "    </tr>\n",
       "    <tr>\n",
       "      <td>세종</td>\n",
       "      <td>2.6</td>\n",
       "      <td>36.1</td>\n",
       "      <td>39.6</td>\n",
       "      <td>102.2</td>\n",
       "    </tr>\n",
       "    <tr>\n",
       "      <td>대전</td>\n",
       "      <td>-0.2</td>\n",
       "      <td>29.5</td>\n",
       "      <td>29.3</td>\n",
       "      <td>71.6</td>\n",
       "    </tr>\n",
       "    <tr>\n",
       "      <td>경기</td>\n",
       "      <td>2.6</td>\n",
       "      <td>15.5</td>\n",
       "      <td>18.4</td>\n",
       "      <td>71.7</td>\n",
       "    </tr>\n",
       "    <tr>\n",
       "      <td>광주</td>\n",
       "      <td>10.0</td>\n",
       "      <td>5.9</td>\n",
       "      <td>16.5</td>\n",
       "      <td>113.7</td>\n",
       "    </tr>\n",
       "    <tr>\n",
       "      <td>전국</td>\n",
       "      <td>2.6</td>\n",
       "      <td>10.2</td>\n",
       "      <td>13.1</td>\n",
       "      <td>82.6</td>\n",
       "    </tr>\n",
       "    <tr>\n",
       "      <td>대구</td>\n",
       "      <td>5.5</td>\n",
       "      <td>6.7</td>\n",
       "      <td>12.6</td>\n",
       "      <td>77.5</td>\n",
       "    </tr>\n",
       "    <tr>\n",
       "      <td>인천</td>\n",
       "      <td>-0.8</td>\n",
       "      <td>12.3</td>\n",
       "      <td>11.5</td>\n",
       "      <td>79.6</td>\n",
       "    </tr>\n",
       "    <tr>\n",
       "      <td>전남</td>\n",
       "      <td>3.1</td>\n",
       "      <td>4.4</td>\n",
       "      <td>7.7</td>\n",
       "      <td>108.8</td>\n",
       "    </tr>\n",
       "    <tr>\n",
       "      <td>부산</td>\n",
       "      <td>-4.7</td>\n",
       "      <td>5.2</td>\n",
       "      <td>0.3</td>\n",
       "      <td>103.4</td>\n",
       "    </tr>\n",
       "    <tr>\n",
       "      <td>전북</td>\n",
       "      <td>-1.6</td>\n",
       "      <td>-1.0</td>\n",
       "      <td>-2.6</td>\n",
       "      <td>70.3</td>\n",
       "    </tr>\n",
       "    <tr>\n",
       "      <td>충남</td>\n",
       "      <td>-5.9</td>\n",
       "      <td>3.1</td>\n",
       "      <td>-3.1</td>\n",
       "      <td>29.5</td>\n",
       "    </tr>\n",
       "    <tr>\n",
       "      <td>제주</td>\n",
       "      <td>1.3</td>\n",
       "      <td>-6.3</td>\n",
       "      <td>-5.0</td>\n",
       "      <td>139.0</td>\n",
       "    </tr>\n",
       "    <tr>\n",
       "      <td>충북</td>\n",
       "      <td>-5.9</td>\n",
       "      <td>0.7</td>\n",
       "      <td>-5.2</td>\n",
       "      <td>45.6</td>\n",
       "    </tr>\n",
       "    <tr>\n",
       "      <td>울산</td>\n",
       "      <td>-10.4</td>\n",
       "      <td>4.6</td>\n",
       "      <td>-6.3</td>\n",
       "      <td>94.7</td>\n",
       "    </tr>\n",
       "    <tr>\n",
       "      <td>강원</td>\n",
       "      <td>-2.4</td>\n",
       "      <td>-5.9</td>\n",
       "      <td>-8.2</td>\n",
       "      <td>48.8</td>\n",
       "    </tr>\n",
       "    <tr>\n",
       "      <td>경북</td>\n",
       "      <td>-7.1</td>\n",
       "      <td>-3.0</td>\n",
       "      <td>-9.9</td>\n",
       "      <td>37.4</td>\n",
       "    </tr>\n",
       "    <tr>\n",
       "      <td>경남</td>\n",
       "      <td>-9.9</td>\n",
       "      <td>-2.2</td>\n",
       "      <td>-11.8</td>\n",
       "      <td>43.3</td>\n",
       "    </tr>\n",
       "  </tbody>\n",
       "</table>\n",
       "</div>"
      ],
      "text/plain": [
       "    2017.08-2018.09  2018.09-2020.07  2017.08-2020.07  2006.01-2020.07\n",
       "서울             23.2             20.7             48.8            141.5\n",
       "세종              2.6             36.1             39.6            102.2\n",
       "대전             -0.2             29.5             29.3             71.6\n",
       "경기              2.6             15.5             18.4             71.7\n",
       "광주             10.0              5.9             16.5            113.7\n",
       "전국              2.6             10.2             13.1             82.6\n",
       "대구              5.5              6.7             12.6             77.5\n",
       "인천             -0.8             12.3             11.5             79.6\n",
       "전남              3.1              4.4              7.7            108.8\n",
       "부산             -4.7              5.2              0.3            103.4\n",
       "전북             -1.6             -1.0             -2.6             70.3\n",
       "충남             -5.9              3.1             -3.1             29.5\n",
       "제주              1.3             -6.3             -5.0            139.0\n",
       "충북             -5.9              0.7             -5.2             45.6\n",
       "울산            -10.4              4.6             -6.3             94.7\n",
       "강원             -2.4             -5.9             -8.2             48.8\n",
       "경북             -7.1             -3.0             -9.9             37.4\n",
       "경남             -9.9             -2.2            -11.8             43.3"
      ]
     },
     "execution_count": 12,
     "metadata": {},
     "output_type": "execute_result"
    }
   ],
   "source": [
    "KAB2_comp.sort_values(by=[\"2017.08-2020.07\"], ascending=False)"
   ]
  },
  {
   "cell_type": "code",
   "execution_count": 13,
   "metadata": {
    "slideshow": {
     "slide_type": "subslide"
    }
   },
   "outputs": [
    {
     "data": {
      "image/png": "[encoded data removed]",
      "text/plain": [
       "<Figure size 936x360 with 1 Axes>"
      ]
     },
     "metadata": {},
     "output_type": "display_data"
    }
   ],
   "source": [
    "ax = KAB2_comp[\"2017.08-2020.07\"].sort_values(ascending=False).plot.bar()\n",
    "for p in ax.patches:\n",
    "    ax.annotate(str(p.get_height()), (p.get_x() * 1.00, p.get_height() * 1.01))"
   ]
  },
  {
   "cell_type": "markdown",
   "metadata": {
    "slideshow": {
     "slide_type": "slide"
    }
   },
   "source": [
    "## 2006.01-2020.07 기간"
   ]
  },
  {
   "cell_type": "code",
   "execution_count": 14,
   "metadata": {},
   "outputs": [
    {
     "data": {
      "text/html": [
       "<div>\n",
       "<style scoped>\n",
       "    .dataframe tbody tr th:only-of-type {\n",
       "        vertical-align: middle;\n",
       "    }\n",
       "\n",
       "    .dataframe tbody tr th {\n",
       "        vertical-align: top;\n",
       "    }\n",
       "\n",
       "    .dataframe thead th {\n",
       "        text-align: right;\n",
       "    }\n",
       "</style>\n",
       "<table border=\"1\" class=\"dataframe\">\n",
       "  <thead>\n",
       "    <tr style=\"text-align: right;\">\n",
       "      <th></th>\n",
       "      <th>2017.08-2018.09</th>\n",
       "      <th>2018.09-2020.07</th>\n",
       "      <th>2017.08-2020.07</th>\n",
       "      <th>2006.01-2020.07</th>\n",
       "    </tr>\n",
       "  </thead>\n",
       "  <tbody>\n",
       "    <tr>\n",
       "      <td>서울</td>\n",
       "      <td>23.2</td>\n",
       "      <td>20.7</td>\n",
       "      <td>48.8</td>\n",
       "      <td>141.5</td>\n",
       "    </tr>\n",
       "    <tr>\n",
       "      <td>제주</td>\n",
       "      <td>1.3</td>\n",
       "      <td>-6.3</td>\n",
       "      <td>-5.0</td>\n",
       "      <td>139.0</td>\n",
       "    </tr>\n",
       "    <tr>\n",
       "      <td>광주</td>\n",
       "      <td>10.0</td>\n",
       "      <td>5.9</td>\n",
       "      <td>16.5</td>\n",
       "      <td>113.7</td>\n",
       "    </tr>\n",
       "    <tr>\n",
       "      <td>전남</td>\n",
       "      <td>3.1</td>\n",
       "      <td>4.4</td>\n",
       "      <td>7.7</td>\n",
       "      <td>108.8</td>\n",
       "    </tr>\n",
       "    <tr>\n",
       "      <td>부산</td>\n",
       "      <td>-4.7</td>\n",
       "      <td>5.2</td>\n",
       "      <td>0.3</td>\n",
       "      <td>103.4</td>\n",
       "    </tr>\n",
       "    <tr>\n",
       "      <td>세종</td>\n",
       "      <td>2.6</td>\n",
       "      <td>36.1</td>\n",
       "      <td>39.6</td>\n",
       "      <td>102.2</td>\n",
       "    </tr>\n",
       "    <tr>\n",
       "      <td>울산</td>\n",
       "      <td>-10.4</td>\n",
       "      <td>4.6</td>\n",
       "      <td>-6.3</td>\n",
       "      <td>94.7</td>\n",
       "    </tr>\n",
       "    <tr>\n",
       "      <td>전국</td>\n",
       "      <td>2.6</td>\n",
       "      <td>10.2</td>\n",
       "      <td>13.1</td>\n",
       "      <td>82.6</td>\n",
       "    </tr>\n",
       "    <tr>\n",
       "      <td>인천</td>\n",
       "      <td>-0.8</td>\n",
       "      <td>12.3</td>\n",
       "      <td>11.5</td>\n",
       "      <td>79.6</td>\n",
       "    </tr>\n",
       "    <tr>\n",
       "      <td>대구</td>\n",
       "      <td>5.5</td>\n",
       "      <td>6.7</td>\n",
       "      <td>12.6</td>\n",
       "      <td>77.5</td>\n",
       "    </tr>\n",
       "    <tr>\n",
       "      <td>경기</td>\n",
       "      <td>2.6</td>\n",
       "      <td>15.5</td>\n",
       "      <td>18.4</td>\n",
       "      <td>71.7</td>\n",
       "    </tr>\n",
       "    <tr>\n",
       "      <td>대전</td>\n",
       "      <td>-0.2</td>\n",
       "      <td>29.5</td>\n",
       "      <td>29.3</td>\n",
       "      <td>71.6</td>\n",
       "    </tr>\n",
       "    <tr>\n",
       "      <td>전북</td>\n",
       "      <td>-1.6</td>\n",
       "      <td>-1.0</td>\n",
       "      <td>-2.6</td>\n",
       "      <td>70.3</td>\n",
       "    </tr>\n",
       "    <tr>\n",
       "      <td>강원</td>\n",
       "      <td>-2.4</td>\n",
       "      <td>-5.9</td>\n",
       "      <td>-8.2</td>\n",
       "      <td>48.8</td>\n",
       "    </tr>\n",
       "    <tr>\n",
       "      <td>충북</td>\n",
       "      <td>-5.9</td>\n",
       "      <td>0.7</td>\n",
       "      <td>-5.2</td>\n",
       "      <td>45.6</td>\n",
       "    </tr>\n",
       "    <tr>\n",
       "      <td>경남</td>\n",
       "      <td>-9.9</td>\n",
       "      <td>-2.2</td>\n",
       "      <td>-11.8</td>\n",
       "      <td>43.3</td>\n",
       "    </tr>\n",
       "    <tr>\n",
       "      <td>경북</td>\n",
       "      <td>-7.1</td>\n",
       "      <td>-3.0</td>\n",
       "      <td>-9.9</td>\n",
       "      <td>37.4</td>\n",
       "    </tr>\n",
       "    <tr>\n",
       "      <td>충남</td>\n",
       "      <td>-5.9</td>\n",
       "      <td>3.1</td>\n",
       "      <td>-3.1</td>\n",
       "      <td>29.5</td>\n",
       "    </tr>\n",
       "  </tbody>\n",
       "</table>\n",
       "</div>"
      ],
      "text/plain": [
       "    2017.08-2018.09  2018.09-2020.07  2017.08-2020.07  2006.01-2020.07\n",
       "서울             23.2             20.7             48.8            141.5\n",
       "제주              1.3             -6.3             -5.0            139.0\n",
       "광주             10.0              5.9             16.5            113.7\n",
       "전남              3.1              4.4              7.7            108.8\n",
       "부산             -4.7              5.2              0.3            103.4\n",
       "세종              2.6             36.1             39.6            102.2\n",
       "울산            -10.4              4.6             -6.3             94.7\n",
       "전국              2.6             10.2             13.1             82.6\n",
       "인천             -0.8             12.3             11.5             79.6\n",
       "대구              5.5              6.7             12.6             77.5\n",
       "경기              2.6             15.5             18.4             71.7\n",
       "대전             -0.2             29.5             29.3             71.6\n",
       "전북             -1.6             -1.0             -2.6             70.3\n",
       "강원             -2.4             -5.9             -8.2             48.8\n",
       "충북             -5.9              0.7             -5.2             45.6\n",
       "경남             -9.9             -2.2            -11.8             43.3\n",
       "경북             -7.1             -3.0             -9.9             37.4\n",
       "충남             -5.9              3.1             -3.1             29.5"
      ]
     },
     "execution_count": 14,
     "metadata": {},
     "output_type": "execute_result"
    }
   ],
   "source": [
    "KAB2_comp.sort_values(by=[\"2006.01-2020.07\"], ascending=False)"
   ]
  },
  {
   "cell_type": "code",
   "execution_count": 15,
   "metadata": {
    "slideshow": {
     "slide_type": "subslide"
    }
   },
   "outputs": [
    {
     "data": {
      "image/png": "[encoded data removed]",
      "text/plain": [
       "<Figure size 936x360 with 1 Axes>"
      ]
     },
     "metadata": {},
     "output_type": "display_data"
    }
   ],
   "source": [
    "ax = KAB2_comp[\"2006.01-2020.07\"].sort_values(ascending=False).plot.bar()\n",
    "for p in ax.patches:\n",
    "    ax.annotate(str(p.get_height()), (p.get_x() * 1.005, p.get_height() * 1.005))"
   ]
  },
  {
   "cell_type": "markdown",
   "metadata": {
    "slideshow": {
     "slide_type": "slide"
    }
   },
   "source": [
    "## 2017.08 - 2020.07 기간"
   ]
  },
  {
   "cell_type": "code",
   "execution_count": 17,
   "metadata": {
    "slideshow": {
     "slide_type": "-"
    }
   },
   "outputs": [
    {
     "data": {
      "image/png": "[encoded data removed]",
      "text/plain": [
       "<Figure size 936x360 with 1 Axes>"
      ]
     },
     "metadata": {},
     "output_type": "display_data"
    }
   ],
   "source": [
    "ax = KAB2_comp.iloc[:,0:3].sort_values(by=[\"2017.08-2020.07\"],ascending=False).plot.bar()\n",
    "for i, p in enumerate(ax.patches):\n",
    "    if i >= KAB2_comp.shape[0]*2:\n",
    "        ax.annotate(str(p.get_height()), (p.get_x() * 0.97, p.get_height() * 1.01))"
   ]
  },
  {
   "cell_type": "markdown",
   "metadata": {
    "slideshow": {
     "slide_type": "slide"
    }
   },
   "source": [
    "## 2006.01 - 2020.07 기간"
   ]
  },
  {
   "cell_type": "code",
   "execution_count": 18,
   "metadata": {
    "slideshow": {
     "slide_type": "-"
    }
   },
   "outputs": [
    {
     "data": {
      "image/png": "[encoded data removed]",
      "text/plain": [
       "<Figure size 936x360 with 1 Axes>"
      ]
     },
     "metadata": {},
     "output_type": "display_data"
    }
   ],
   "source": [
    "ax = KAB2_comp.sort_values(by=[\"2006.01-2020.07\"],ascending=False).plot.bar()\n",
    "for i, p in enumerate(ax.patches):\n",
    "    if i >= KAB2_comp.shape[0]*2:\n",
    "        ax.annotate(str(p.get_height()), (p.get_x() * 0.98, p.get_height() * 1.015))"
   ]
  }
 ],
 "metadata": {
  "celltoolbar": "Slideshow",
  "kernelspec": {
   "display_name": "Python 3",
   "language": "python",
   "name": "python3"
  },
  "language_info": {
   "codemirror_mode": {
    "name": "ipython",
    "version": 3
   },
   "file_extension": ".py",
   "mimetype": "text/x-python",
   "name": "python",
   "nbconvert_exporter": "python",
   "pygments_lexer": "ipython3",
   "version": "3.7.4"
  }
 },
 "nbformat": 4,
 "nbformat_minor": 4
}
